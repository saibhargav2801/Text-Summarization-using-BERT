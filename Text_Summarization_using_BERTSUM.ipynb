{
  "nbformat": 4,
  "nbformat_minor": 0,
  "metadata": {
    "colab": {
      "name": "Text Summarization using BERTSUM.ipynb",
      "provenance": []
    },
    "kernelspec": {
      "name": "python3",
      "display_name": "Python 3"
    },
    "language_info": {
      "name": "python"
    },
    "widgets": {
      "application/vnd.jupyter.widget-state+json": {
        "f779b5112f654fe69cbaa2cff8015e01": {
          "model_module": "@jupyter-widgets/controls",
          "model_name": "HBoxModel",
          "model_module_version": "1.5.0",
          "state": {
            "_view_name": "HBoxView",
            "_dom_classes": [],
            "_model_name": "HBoxModel",
            "_view_module": "@jupyter-widgets/controls",
            "_model_module_version": "1.5.0",
            "_view_count": null,
            "_view_module_version": "1.5.0",
            "box_style": "",
            "layout": "IPY_MODEL_98abe822d2b24c509d7cd3a023801525",
            "_model_module": "@jupyter-widgets/controls",
            "children": [
              "IPY_MODEL_21477f66b341467cae76ff71b56edb86",
              "IPY_MODEL_8ee414bd46344470817b7443341e7bc7",
              "IPY_MODEL_416d100ab3ab4fa5a57713d681d8a76e"
            ]
          }
        },
        "98abe822d2b24c509d7cd3a023801525": {
          "model_module": "@jupyter-widgets/base",
          "model_name": "LayoutModel",
          "model_module_version": "1.2.0",
          "state": {
            "_view_name": "LayoutView",
            "grid_template_rows": null,
            "right": null,
            "justify_content": null,
            "_view_module": "@jupyter-widgets/base",
            "overflow": null,
            "_model_module_version": "1.2.0",
            "_view_count": null,
            "flex_flow": null,
            "width": null,
            "min_width": null,
            "border": null,
            "align_items": null,
            "bottom": null,
            "_model_module": "@jupyter-widgets/base",
            "top": null,
            "grid_column": null,
            "overflow_y": null,
            "overflow_x": null,
            "grid_auto_flow": null,
            "grid_area": null,
            "grid_template_columns": null,
            "flex": null,
            "_model_name": "LayoutModel",
            "justify_items": null,
            "grid_row": null,
            "max_height": null,
            "align_content": null,
            "visibility": null,
            "align_self": null,
            "height": null,
            "min_height": null,
            "padding": null,
            "grid_auto_rows": null,
            "grid_gap": null,
            "max_width": null,
            "order": null,
            "_view_module_version": "1.2.0",
            "grid_template_areas": null,
            "object_position": null,
            "object_fit": null,
            "grid_auto_columns": null,
            "margin": null,
            "display": null,
            "left": null
          }
        },
        "21477f66b341467cae76ff71b56edb86": {
          "model_module": "@jupyter-widgets/controls",
          "model_name": "HTMLModel",
          "model_module_version": "1.5.0",
          "state": {
            "_view_name": "HTMLView",
            "style": "IPY_MODEL_52d9535812ff4e748ee2567461e69259",
            "_dom_classes": [],
            "description": "",
            "_model_name": "HTMLModel",
            "placeholder": "​",
            "_view_module": "@jupyter-widgets/controls",
            "_model_module_version": "1.5.0",
            "value": "Downloading: 100%",
            "_view_count": null,
            "_view_module_version": "1.5.0",
            "description_tooltip": null,
            "_model_module": "@jupyter-widgets/controls",
            "layout": "IPY_MODEL_cea2836fcbdb4eaca8af3a79a8953922"
          }
        },
        "8ee414bd46344470817b7443341e7bc7": {
          "model_module": "@jupyter-widgets/controls",
          "model_name": "FloatProgressModel",
          "model_module_version": "1.5.0",
          "state": {
            "_view_name": "ProgressView",
            "style": "IPY_MODEL_7cde5fa9647d4a8e99767d1711926bd3",
            "_dom_classes": [],
            "description": "",
            "_model_name": "FloatProgressModel",
            "bar_style": "success",
            "max": 571,
            "_view_module": "@jupyter-widgets/controls",
            "_model_module_version": "1.5.0",
            "value": 571,
            "_view_count": null,
            "_view_module_version": "1.5.0",
            "orientation": "horizontal",
            "min": 0,
            "description_tooltip": null,
            "_model_module": "@jupyter-widgets/controls",
            "layout": "IPY_MODEL_1a06cce7390b4ec5a28395ea72c5c8a0"
          }
        },
        "416d100ab3ab4fa5a57713d681d8a76e": {
          "model_module": "@jupyter-widgets/controls",
          "model_name": "HTMLModel",
          "model_module_version": "1.5.0",
          "state": {
            "_view_name": "HTMLView",
            "style": "IPY_MODEL_24abd11718c248b88a012b231268c137",
            "_dom_classes": [],
            "description": "",
            "_model_name": "HTMLModel",
            "placeholder": "​",
            "_view_module": "@jupyter-widgets/controls",
            "_model_module_version": "1.5.0",
            "value": " 571/571 [00:00&lt;00:00, 10.9kB/s]",
            "_view_count": null,
            "_view_module_version": "1.5.0",
            "description_tooltip": null,
            "_model_module": "@jupyter-widgets/controls",
            "layout": "IPY_MODEL_b22c75ad245e410e936a6804c88f1cee"
          }
        },
        "52d9535812ff4e748ee2567461e69259": {
          "model_module": "@jupyter-widgets/controls",
          "model_name": "DescriptionStyleModel",
          "model_module_version": "1.5.0",
          "state": {
            "_view_name": "StyleView",
            "_model_name": "DescriptionStyleModel",
            "description_width": "",
            "_view_module": "@jupyter-widgets/base",
            "_model_module_version": "1.5.0",
            "_view_count": null,
            "_view_module_version": "1.2.0",
            "_model_module": "@jupyter-widgets/controls"
          }
        },
        "cea2836fcbdb4eaca8af3a79a8953922": {
          "model_module": "@jupyter-widgets/base",
          "model_name": "LayoutModel",
          "model_module_version": "1.2.0",
          "state": {
            "_view_name": "LayoutView",
            "grid_template_rows": null,
            "right": null,
            "justify_content": null,
            "_view_module": "@jupyter-widgets/base",
            "overflow": null,
            "_model_module_version": "1.2.0",
            "_view_count": null,
            "flex_flow": null,
            "width": null,
            "min_width": null,
            "border": null,
            "align_items": null,
            "bottom": null,
            "_model_module": "@jupyter-widgets/base",
            "top": null,
            "grid_column": null,
            "overflow_y": null,
            "overflow_x": null,
            "grid_auto_flow": null,
            "grid_area": null,
            "grid_template_columns": null,
            "flex": null,
            "_model_name": "LayoutModel",
            "justify_items": null,
            "grid_row": null,
            "max_height": null,
            "align_content": null,
            "visibility": null,
            "align_self": null,
            "height": null,
            "min_height": null,
            "padding": null,
            "grid_auto_rows": null,
            "grid_gap": null,
            "max_width": null,
            "order": null,
            "_view_module_version": "1.2.0",
            "grid_template_areas": null,
            "object_position": null,
            "object_fit": null,
            "grid_auto_columns": null,
            "margin": null,
            "display": null,
            "left": null
          }
        },
        "7cde5fa9647d4a8e99767d1711926bd3": {
          "model_module": "@jupyter-widgets/controls",
          "model_name": "ProgressStyleModel",
          "model_module_version": "1.5.0",
          "state": {
            "_view_name": "StyleView",
            "_model_name": "ProgressStyleModel",
            "description_width": "",
            "_view_module": "@jupyter-widgets/base",
            "_model_module_version": "1.5.0",
            "_view_count": null,
            "_view_module_version": "1.2.0",
            "bar_color": null,
            "_model_module": "@jupyter-widgets/controls"
          }
        },
        "1a06cce7390b4ec5a28395ea72c5c8a0": {
          "model_module": "@jupyter-widgets/base",
          "model_name": "LayoutModel",
          "model_module_version": "1.2.0",
          "state": {
            "_view_name": "LayoutView",
            "grid_template_rows": null,
            "right": null,
            "justify_content": null,
            "_view_module": "@jupyter-widgets/base",
            "overflow": null,
            "_model_module_version": "1.2.0",
            "_view_count": null,
            "flex_flow": null,
            "width": null,
            "min_width": null,
            "border": null,
            "align_items": null,
            "bottom": null,
            "_model_module": "@jupyter-widgets/base",
            "top": null,
            "grid_column": null,
            "overflow_y": null,
            "overflow_x": null,
            "grid_auto_flow": null,
            "grid_area": null,
            "grid_template_columns": null,
            "flex": null,
            "_model_name": "LayoutModel",
            "justify_items": null,
            "grid_row": null,
            "max_height": null,
            "align_content": null,
            "visibility": null,
            "align_self": null,
            "height": null,
            "min_height": null,
            "padding": null,
            "grid_auto_rows": null,
            "grid_gap": null,
            "max_width": null,
            "order": null,
            "_view_module_version": "1.2.0",
            "grid_template_areas": null,
            "object_position": null,
            "object_fit": null,
            "grid_auto_columns": null,
            "margin": null,
            "display": null,
            "left": null
          }
        },
        "24abd11718c248b88a012b231268c137": {
          "model_module": "@jupyter-widgets/controls",
          "model_name": "DescriptionStyleModel",
          "model_module_version": "1.5.0",
          "state": {
            "_view_name": "StyleView",
            "_model_name": "DescriptionStyleModel",
            "description_width": "",
            "_view_module": "@jupyter-widgets/base",
            "_model_module_version": "1.5.0",
            "_view_count": null,
            "_view_module_version": "1.2.0",
            "_model_module": "@jupyter-widgets/controls"
          }
        },
        "b22c75ad245e410e936a6804c88f1cee": {
          "model_module": "@jupyter-widgets/base",
          "model_name": "LayoutModel",
          "model_module_version": "1.2.0",
          "state": {
            "_view_name": "LayoutView",
            "grid_template_rows": null,
            "right": null,
            "justify_content": null,
            "_view_module": "@jupyter-widgets/base",
            "overflow": null,
            "_model_module_version": "1.2.0",
            "_view_count": null,
            "flex_flow": null,
            "width": null,
            "min_width": null,
            "border": null,
            "align_items": null,
            "bottom": null,
            "_model_module": "@jupyter-widgets/base",
            "top": null,
            "grid_column": null,
            "overflow_y": null,
            "overflow_x": null,
            "grid_auto_flow": null,
            "grid_area": null,
            "grid_template_columns": null,
            "flex": null,
            "_model_name": "LayoutModel",
            "justify_items": null,
            "grid_row": null,
            "max_height": null,
            "align_content": null,
            "visibility": null,
            "align_self": null,
            "height": null,
            "min_height": null,
            "padding": null,
            "grid_auto_rows": null,
            "grid_gap": null,
            "max_width": null,
            "order": null,
            "_view_module_version": "1.2.0",
            "grid_template_areas": null,
            "object_position": null,
            "object_fit": null,
            "grid_auto_columns": null,
            "margin": null,
            "display": null,
            "left": null
          }
        },
        "6dea440dca4043e5b8408dd5ef6672c8": {
          "model_module": "@jupyter-widgets/controls",
          "model_name": "HBoxModel",
          "model_module_version": "1.5.0",
          "state": {
            "_view_name": "HBoxView",
            "_dom_classes": [],
            "_model_name": "HBoxModel",
            "_view_module": "@jupyter-widgets/controls",
            "_model_module_version": "1.5.0",
            "_view_count": null,
            "_view_module_version": "1.5.0",
            "box_style": "",
            "layout": "IPY_MODEL_8bb04256fe5b4733b346c83f842d14ea",
            "_model_module": "@jupyter-widgets/controls",
            "children": [
              "IPY_MODEL_59c4f9a5157d4fe2ba31d02325b840f9",
              "IPY_MODEL_1e40ef9b97f04d16b52896ab96d41c20",
              "IPY_MODEL_b4b38fdf0f09475c8eb9fb7889e039a8"
            ]
          }
        },
        "8bb04256fe5b4733b346c83f842d14ea": {
          "model_module": "@jupyter-widgets/base",
          "model_name": "LayoutModel",
          "model_module_version": "1.2.0",
          "state": {
            "_view_name": "LayoutView",
            "grid_template_rows": null,
            "right": null,
            "justify_content": null,
            "_view_module": "@jupyter-widgets/base",
            "overflow": null,
            "_model_module_version": "1.2.0",
            "_view_count": null,
            "flex_flow": null,
            "width": null,
            "min_width": null,
            "border": null,
            "align_items": null,
            "bottom": null,
            "_model_module": "@jupyter-widgets/base",
            "top": null,
            "grid_column": null,
            "overflow_y": null,
            "overflow_x": null,
            "grid_auto_flow": null,
            "grid_area": null,
            "grid_template_columns": null,
            "flex": null,
            "_model_name": "LayoutModel",
            "justify_items": null,
            "grid_row": null,
            "max_height": null,
            "align_content": null,
            "visibility": null,
            "align_self": null,
            "height": null,
            "min_height": null,
            "padding": null,
            "grid_auto_rows": null,
            "grid_gap": null,
            "max_width": null,
            "order": null,
            "_view_module_version": "1.2.0",
            "grid_template_areas": null,
            "object_position": null,
            "object_fit": null,
            "grid_auto_columns": null,
            "margin": null,
            "display": null,
            "left": null
          }
        },
        "59c4f9a5157d4fe2ba31d02325b840f9": {
          "model_module": "@jupyter-widgets/controls",
          "model_name": "HTMLModel",
          "model_module_version": "1.5.0",
          "state": {
            "_view_name": "HTMLView",
            "style": "IPY_MODEL_6182597dfb454121b4b83e3511add2df",
            "_dom_classes": [],
            "description": "",
            "_model_name": "HTMLModel",
            "placeholder": "​",
            "_view_module": "@jupyter-widgets/controls",
            "_model_module_version": "1.5.0",
            "value": "Downloading: 100%",
            "_view_count": null,
            "_view_module_version": "1.5.0",
            "description_tooltip": null,
            "_model_module": "@jupyter-widgets/controls",
            "layout": "IPY_MODEL_010d43fc583743b796dc72d976794e65"
          }
        },
        "1e40ef9b97f04d16b52896ab96d41c20": {
          "model_module": "@jupyter-widgets/controls",
          "model_name": "FloatProgressModel",
          "model_module_version": "1.5.0",
          "state": {
            "_view_name": "ProgressView",
            "style": "IPY_MODEL_357c5389d1754382aa7cd401625e7f03",
            "_dom_classes": [],
            "description": "",
            "_model_name": "FloatProgressModel",
            "bar_style": "success",
            "max": 1344997306,
            "_view_module": "@jupyter-widgets/controls",
            "_model_module_version": "1.5.0",
            "value": 1344997306,
            "_view_count": null,
            "_view_module_version": "1.5.0",
            "orientation": "horizontal",
            "min": 0,
            "description_tooltip": null,
            "_model_module": "@jupyter-widgets/controls",
            "layout": "IPY_MODEL_fec17ad86de547e4969924d07b04f4c0"
          }
        },
        "b4b38fdf0f09475c8eb9fb7889e039a8": {
          "model_module": "@jupyter-widgets/controls",
          "model_name": "HTMLModel",
          "model_module_version": "1.5.0",
          "state": {
            "_view_name": "HTMLView",
            "style": "IPY_MODEL_d3064e040bd542fd9210338e93a7b6b0",
            "_dom_classes": [],
            "description": "",
            "_model_name": "HTMLModel",
            "placeholder": "​",
            "_view_module": "@jupyter-widgets/controls",
            "_model_module_version": "1.5.0",
            "value": " 1.25G/1.25G [00:33&lt;00:00, 43.7MB/s]",
            "_view_count": null,
            "_view_module_version": "1.5.0",
            "description_tooltip": null,
            "_model_module": "@jupyter-widgets/controls",
            "layout": "IPY_MODEL_e84d89e2d7a844c684d73de864e78860"
          }
        },
        "6182597dfb454121b4b83e3511add2df": {
          "model_module": "@jupyter-widgets/controls",
          "model_name": "DescriptionStyleModel",
          "model_module_version": "1.5.0",
          "state": {
            "_view_name": "StyleView",
            "_model_name": "DescriptionStyleModel",
            "description_width": "",
            "_view_module": "@jupyter-widgets/base",
            "_model_module_version": "1.5.0",
            "_view_count": null,
            "_view_module_version": "1.2.0",
            "_model_module": "@jupyter-widgets/controls"
          }
        },
        "010d43fc583743b796dc72d976794e65": {
          "model_module": "@jupyter-widgets/base",
          "model_name": "LayoutModel",
          "model_module_version": "1.2.0",
          "state": {
            "_view_name": "LayoutView",
            "grid_template_rows": null,
            "right": null,
            "justify_content": null,
            "_view_module": "@jupyter-widgets/base",
            "overflow": null,
            "_model_module_version": "1.2.0",
            "_view_count": null,
            "flex_flow": null,
            "width": null,
            "min_width": null,
            "border": null,
            "align_items": null,
            "bottom": null,
            "_model_module": "@jupyter-widgets/base",
            "top": null,
            "grid_column": null,
            "overflow_y": null,
            "overflow_x": null,
            "grid_auto_flow": null,
            "grid_area": null,
            "grid_template_columns": null,
            "flex": null,
            "_model_name": "LayoutModel",
            "justify_items": null,
            "grid_row": null,
            "max_height": null,
            "align_content": null,
            "visibility": null,
            "align_self": null,
            "height": null,
            "min_height": null,
            "padding": null,
            "grid_auto_rows": null,
            "grid_gap": null,
            "max_width": null,
            "order": null,
            "_view_module_version": "1.2.0",
            "grid_template_areas": null,
            "object_position": null,
            "object_fit": null,
            "grid_auto_columns": null,
            "margin": null,
            "display": null,
            "left": null
          }
        },
        "357c5389d1754382aa7cd401625e7f03": {
          "model_module": "@jupyter-widgets/controls",
          "model_name": "ProgressStyleModel",
          "model_module_version": "1.5.0",
          "state": {
            "_view_name": "StyleView",
            "_model_name": "ProgressStyleModel",
            "description_width": "",
            "_view_module": "@jupyter-widgets/base",
            "_model_module_version": "1.5.0",
            "_view_count": null,
            "_view_module_version": "1.2.0",
            "bar_color": null,
            "_model_module": "@jupyter-widgets/controls"
          }
        },
        "fec17ad86de547e4969924d07b04f4c0": {
          "model_module": "@jupyter-widgets/base",
          "model_name": "LayoutModel",
          "model_module_version": "1.2.0",
          "state": {
            "_view_name": "LayoutView",
            "grid_template_rows": null,
            "right": null,
            "justify_content": null,
            "_view_module": "@jupyter-widgets/base",
            "overflow": null,
            "_model_module_version": "1.2.0",
            "_view_count": null,
            "flex_flow": null,
            "width": null,
            "min_width": null,
            "border": null,
            "align_items": null,
            "bottom": null,
            "_model_module": "@jupyter-widgets/base",
            "top": null,
            "grid_column": null,
            "overflow_y": null,
            "overflow_x": null,
            "grid_auto_flow": null,
            "grid_area": null,
            "grid_template_columns": null,
            "flex": null,
            "_model_name": "LayoutModel",
            "justify_items": null,
            "grid_row": null,
            "max_height": null,
            "align_content": null,
            "visibility": null,
            "align_self": null,
            "height": null,
            "min_height": null,
            "padding": null,
            "grid_auto_rows": null,
            "grid_gap": null,
            "max_width": null,
            "order": null,
            "_view_module_version": "1.2.0",
            "grid_template_areas": null,
            "object_position": null,
            "object_fit": null,
            "grid_auto_columns": null,
            "margin": null,
            "display": null,
            "left": null
          }
        },
        "d3064e040bd542fd9210338e93a7b6b0": {
          "model_module": "@jupyter-widgets/controls",
          "model_name": "DescriptionStyleModel",
          "model_module_version": "1.5.0",
          "state": {
            "_view_name": "StyleView",
            "_model_name": "DescriptionStyleModel",
            "description_width": "",
            "_view_module": "@jupyter-widgets/base",
            "_model_module_version": "1.5.0",
            "_view_count": null,
            "_view_module_version": "1.2.0",
            "_model_module": "@jupyter-widgets/controls"
          }
        },
        "e84d89e2d7a844c684d73de864e78860": {
          "model_module": "@jupyter-widgets/base",
          "model_name": "LayoutModel",
          "model_module_version": "1.2.0",
          "state": {
            "_view_name": "LayoutView",
            "grid_template_rows": null,
            "right": null,
            "justify_content": null,
            "_view_module": "@jupyter-widgets/base",
            "overflow": null,
            "_model_module_version": "1.2.0",
            "_view_count": null,
            "flex_flow": null,
            "width": null,
            "min_width": null,
            "border": null,
            "align_items": null,
            "bottom": null,
            "_model_module": "@jupyter-widgets/base",
            "top": null,
            "grid_column": null,
            "overflow_y": null,
            "overflow_x": null,
            "grid_auto_flow": null,
            "grid_area": null,
            "grid_template_columns": null,
            "flex": null,
            "_model_name": "LayoutModel",
            "justify_items": null,
            "grid_row": null,
            "max_height": null,
            "align_content": null,
            "visibility": null,
            "align_self": null,
            "height": null,
            "min_height": null,
            "padding": null,
            "grid_auto_rows": null,
            "grid_gap": null,
            "max_width": null,
            "order": null,
            "_view_module_version": "1.2.0",
            "grid_template_areas": null,
            "object_position": null,
            "object_fit": null,
            "grid_auto_columns": null,
            "margin": null,
            "display": null,
            "left": null
          }
        }
      }
    }
  },
  "cells": [
    {
      "cell_type": "code",
      "metadata": {
        "id": "brY3cJQJTZVV"
      },
      "source": [
        "import numpy as np\n",
        "import pandas as np"
      ],
      "execution_count": 12,
      "outputs": []
    },
    {
      "cell_type": "code",
      "metadata": {
        "colab": {
          "base_uri": "https://localhost:8080/"
        },
        "id": "1AMYZt1NTzFz",
        "outputId": "c166e062-c691-4160-ca05-65bf39c7a711"
      },
      "source": [
        "!pip install bert-extractive-summarizer"
      ],
      "execution_count": null,
      "outputs": [
        {
          "output_type": "stream",
          "name": "stdout",
          "text": [
            "Collecting bert-extractive-summarizer\n",
            "  Downloading bert_extractive_summarizer-0.8.1-py3-none-any.whl (19 kB)\n",
            "Collecting transformers\n",
            "  Downloading transformers-4.11.3-py3-none-any.whl (2.9 MB)\n",
            "\u001b[K     |████████████████████████████████| 2.9 MB 5.7 MB/s \n",
            "\u001b[?25hRequirement already satisfied: scikit-learn in /usr/local/lib/python3.7/dist-packages (from bert-extractive-summarizer) (0.22.2.post1)\n",
            "Requirement already satisfied: spacy in /usr/local/lib/python3.7/dist-packages (from bert-extractive-summarizer) (2.2.4)\n",
            "Requirement already satisfied: joblib>=0.11 in /usr/local/lib/python3.7/dist-packages (from scikit-learn->bert-extractive-summarizer) (1.0.1)\n",
            "Requirement already satisfied: numpy>=1.11.0 in /usr/local/lib/python3.7/dist-packages (from scikit-learn->bert-extractive-summarizer) (1.19.5)\n",
            "Requirement already satisfied: scipy>=0.17.0 in /usr/local/lib/python3.7/dist-packages (from scikit-learn->bert-extractive-summarizer) (1.4.1)\n",
            "Requirement already satisfied: setuptools in /usr/local/lib/python3.7/dist-packages (from spacy->bert-extractive-summarizer) (57.4.0)\n",
            "Requirement already satisfied: thinc==7.4.0 in /usr/local/lib/python3.7/dist-packages (from spacy->bert-extractive-summarizer) (7.4.0)\n",
            "Requirement already satisfied: tqdm<5.0.0,>=4.38.0 in /usr/local/lib/python3.7/dist-packages (from spacy->bert-extractive-summarizer) (4.62.3)\n",
            "Requirement already satisfied: catalogue<1.1.0,>=0.0.7 in /usr/local/lib/python3.7/dist-packages (from spacy->bert-extractive-summarizer) (1.0.0)\n",
            "Requirement already satisfied: cymem<2.1.0,>=2.0.2 in /usr/local/lib/python3.7/dist-packages (from spacy->bert-extractive-summarizer) (2.0.5)\n",
            "Requirement already satisfied: wasabi<1.1.0,>=0.4.0 in /usr/local/lib/python3.7/dist-packages (from spacy->bert-extractive-summarizer) (0.8.2)\n",
            "Requirement already satisfied: blis<0.5.0,>=0.4.0 in /usr/local/lib/python3.7/dist-packages (from spacy->bert-extractive-summarizer) (0.4.1)\n",
            "Requirement already satisfied: preshed<3.1.0,>=3.0.2 in /usr/local/lib/python3.7/dist-packages (from spacy->bert-extractive-summarizer) (3.0.5)\n",
            "Requirement already satisfied: requests<3.0.0,>=2.13.0 in /usr/local/lib/python3.7/dist-packages (from spacy->bert-extractive-summarizer) (2.23.0)\n",
            "Requirement already satisfied: murmurhash<1.1.0,>=0.28.0 in /usr/local/lib/python3.7/dist-packages (from spacy->bert-extractive-summarizer) (1.0.5)\n",
            "Requirement already satisfied: srsly<1.1.0,>=1.0.2 in /usr/local/lib/python3.7/dist-packages (from spacy->bert-extractive-summarizer) (1.0.5)\n",
            "Requirement already satisfied: plac<1.2.0,>=0.9.6 in /usr/local/lib/python3.7/dist-packages (from spacy->bert-extractive-summarizer) (1.1.3)\n",
            "Requirement already satisfied: importlib-metadata>=0.20 in /usr/local/lib/python3.7/dist-packages (from catalogue<1.1.0,>=0.0.7->spacy->bert-extractive-summarizer) (4.8.1)\n",
            "Requirement already satisfied: typing-extensions>=3.6.4 in /usr/local/lib/python3.7/dist-packages (from importlib-metadata>=0.20->catalogue<1.1.0,>=0.0.7->spacy->bert-extractive-summarizer) (3.7.4.3)\n",
            "Requirement already satisfied: zipp>=0.5 in /usr/local/lib/python3.7/dist-packages (from importlib-metadata>=0.20->catalogue<1.1.0,>=0.0.7->spacy->bert-extractive-summarizer) (3.6.0)\n",
            "Requirement already satisfied: chardet<4,>=3.0.2 in /usr/local/lib/python3.7/dist-packages (from requests<3.0.0,>=2.13.0->spacy->bert-extractive-summarizer) (3.0.4)\n",
            "Requirement already satisfied: idna<3,>=2.5 in /usr/local/lib/python3.7/dist-packages (from requests<3.0.0,>=2.13.0->spacy->bert-extractive-summarizer) (2.10)\n",
            "Requirement already satisfied: certifi>=2017.4.17 in /usr/local/lib/python3.7/dist-packages (from requests<3.0.0,>=2.13.0->spacy->bert-extractive-summarizer) (2021.5.30)\n",
            "Requirement already satisfied: urllib3!=1.25.0,!=1.25.1,<1.26,>=1.21.1 in /usr/local/lib/python3.7/dist-packages (from requests<3.0.0,>=2.13.0->spacy->bert-extractive-summarizer) (1.24.3)\n",
            "Requirement already satisfied: packaging>=20.0 in /usr/local/lib/python3.7/dist-packages (from transformers->bert-extractive-summarizer) (21.0)\n",
            "Requirement already satisfied: regex!=2019.12.17 in /usr/local/lib/python3.7/dist-packages (from transformers->bert-extractive-summarizer) (2019.12.20)\n",
            "Collecting pyyaml>=5.1\n",
            "  Downloading PyYAML-6.0-cp37-cp37m-manylinux_2_5_x86_64.manylinux1_x86_64.manylinux_2_12_x86_64.manylinux2010_x86_64.whl (596 kB)\n",
            "\u001b[K     |████████████████████████████████| 596 kB 59.7 MB/s \n",
            "\u001b[?25hCollecting tokenizers<0.11,>=0.10.1\n",
            "  Downloading tokenizers-0.10.3-cp37-cp37m-manylinux_2_5_x86_64.manylinux1_x86_64.manylinux_2_12_x86_64.manylinux2010_x86_64.whl (3.3 MB)\n",
            "\u001b[K     |████████████████████████████████| 3.3 MB 44.2 MB/s \n",
            "\u001b[?25hCollecting huggingface-hub>=0.0.17\n",
            "  Downloading huggingface_hub-0.0.19-py3-none-any.whl (56 kB)\n",
            "\u001b[K     |████████████████████████████████| 56 kB 3.8 MB/s \n",
            "\u001b[?25hRequirement already satisfied: filelock in /usr/local/lib/python3.7/dist-packages (from transformers->bert-extractive-summarizer) (3.3.0)\n",
            "Collecting sacremoses\n",
            "  Downloading sacremoses-0.0.46-py3-none-any.whl (895 kB)\n",
            "\u001b[K     |████████████████████████████████| 895 kB 71.2 MB/s \n",
            "\u001b[?25hRequirement already satisfied: pyparsing>=2.0.2 in /usr/local/lib/python3.7/dist-packages (from packaging>=20.0->transformers->bert-extractive-summarizer) (2.4.7)\n",
            "Requirement already satisfied: six in /usr/local/lib/python3.7/dist-packages (from sacremoses->transformers->bert-extractive-summarizer) (1.15.0)\n",
            "Requirement already satisfied: click in /usr/local/lib/python3.7/dist-packages (from sacremoses->transformers->bert-extractive-summarizer) (7.1.2)\n",
            "Installing collected packages: pyyaml, tokenizers, sacremoses, huggingface-hub, transformers, bert-extractive-summarizer\n",
            "  Attempting uninstall: pyyaml\n",
            "    Found existing installation: PyYAML 3.13\n",
            "    Uninstalling PyYAML-3.13:\n",
            "      Successfully uninstalled PyYAML-3.13\n",
            "Successfully installed bert-extractive-summarizer-0.8.1 huggingface-hub-0.0.19 pyyaml-6.0 sacremoses-0.0.46 tokenizers-0.10.3 transformers-4.11.3\n"
          ]
        }
      ]
    },
    {
      "cell_type": "code",
      "metadata": {
        "id": "2_hJhQT8Tukb"
      },
      "source": [
        "from summarizer import Summarizer"
      ],
      "execution_count": null,
      "outputs": []
    },
    {
      "cell_type": "code",
      "metadata": {
        "id": "-5yYJXqtTxQG"
      },
      "source": [
        "covid_text = open('covid.txt','r').read()"
      ],
      "execution_count": null,
      "outputs": []
    },
    {
      "cell_type": "code",
      "metadata": {
        "colab": {
          "base_uri": "https://localhost:8080/",
          "height": 247,
          "referenced_widgets": [
            "f779b5112f654fe69cbaa2cff8015e01",
            "98abe822d2b24c509d7cd3a023801525",
            "21477f66b341467cae76ff71b56edb86",
            "8ee414bd46344470817b7443341e7bc7",
            "416d100ab3ab4fa5a57713d681d8a76e",
            "52d9535812ff4e748ee2567461e69259",
            "cea2836fcbdb4eaca8af3a79a8953922",
            "7cde5fa9647d4a8e99767d1711926bd3",
            "1a06cce7390b4ec5a28395ea72c5c8a0",
            "24abd11718c248b88a012b231268c137",
            "b22c75ad245e410e936a6804c88f1cee",
            "6dea440dca4043e5b8408dd5ef6672c8",
            "8bb04256fe5b4733b346c83f842d14ea",
            "59c4f9a5157d4fe2ba31d02325b840f9",
            "1e40ef9b97f04d16b52896ab96d41c20",
            "b4b38fdf0f09475c8eb9fb7889e039a8",
            "6182597dfb454121b4b83e3511add2df",
            "010d43fc583743b796dc72d976794e65",
            "357c5389d1754382aa7cd401625e7f03",
            "fec17ad86de547e4969924d07b04f4c0",
            "d3064e040bd542fd9210338e93a7b6b0",
            "e84d89e2d7a844c684d73de864e78860",
            "323743a205f6440fafccf0658bcfa4e8",
            "d62a392b03cc43159e4436d25f6ce2d3",
            "a379382f641c4f1baf1c27293ae915fe"
          ]
        },
        "id": "aA9ymu3lUBfg",
        "outputId": "5f582ce9-5317-4487-dc70-9a7241554340"
      },
      "source": [
        "model = Summarizer()\n",
        "result = model(covid_text,min_length=20)"
      ],
      "execution_count": null,
      "outputs": [
        {
          "output_type": "display_data",
          "data": {
            "application/vnd.jupyter.widget-view+json": {
              "model_id": "f779b5112f654fe69cbaa2cff8015e01",
              "version_minor": 0,
              "version_major": 2
            },
            "text/plain": [
              "Downloading:   0%|          | 0.00/571 [00:00<?, ?B/s]"
            ]
          },
          "metadata": {}
        },
        {
          "output_type": "display_data",
          "data": {
            "application/vnd.jupyter.widget-view+json": {
              "model_id": "6dea440dca4043e5b8408dd5ef6672c8",
              "version_minor": 0,
              "version_major": 2
            },
            "text/plain": [
              "Downloading:   0%|          | 0.00/1.25G [00:00<?, ?B/s]"
            ]
          },
          "metadata": {}
        },
        {
          "output_type": "stream",
          "name": "stderr",
          "text": [
            "Some weights of the model checkpoint at bert-large-uncased were not used when initializing BertModel: ['cls.predictions.transform.dense.bias', 'cls.predictions.transform.dense.weight', 'cls.predictions.bias', 'cls.predictions.transform.LayerNorm.bias', 'cls.predictions.transform.LayerNorm.weight', 'cls.seq_relationship.bias', 'cls.predictions.decoder.weight', 'cls.seq_relationship.weight']\n",
            "- This IS expected if you are initializing BertModel from the checkpoint of a model trained on another task or with another architecture (e.g. initializing a BertForSequenceClassification model from a BertForPreTraining model).\n",
            "- This IS NOT expected if you are initializing BertModel from the checkpoint of a model that you expect to be exactly identical (initializing a BertForSequenceClassification model from a BertForSequenceClassification model).\n"
          ]
        },
        {
          "output_type": "display_data",
          "data": {
            "application/vnd.jupyter.widget-view+json": {
              "model_id": "323743a205f6440fafccf0658bcfa4e8",
              "version_minor": 0,
              "version_major": 2
            },
            "text/plain": [
              "Downloading:   0%|          | 0.00/226k [00:00<?, ?B/s]"
            ]
          },
          "metadata": {}
        },
        {
          "output_type": "display_data",
          "data": {
            "application/vnd.jupyter.widget-view+json": {
              "model_id": "d62a392b03cc43159e4436d25f6ce2d3",
              "version_minor": 0,
              "version_major": 2
            },
            "text/plain": [
              "Downloading:   0%|          | 0.00/28.0 [00:00<?, ?B/s]"
            ]
          },
          "metadata": {}
        },
        {
          "output_type": "display_data",
          "data": {
            "application/vnd.jupyter.widget-view+json": {
              "model_id": "a379382f641c4f1baf1c27293ae915fe",
              "version_minor": 0,
              "version_major": 2
            },
            "text/plain": [
              "Downloading:   0%|          | 0.00/455k [00:00<?, ?B/s]"
            ]
          },
          "metadata": {}
        }
      ]
    },
    {
      "cell_type": "code",
      "metadata": {
        "colab": {
          "base_uri": "https://localhost:8080/",
          "height": 52
        },
        "id": "gOMrWmV1UEI6",
        "outputId": "99c9afe3-1f61-4083-c611-91fad4356826"
      },
      "source": [
        "result"
      ],
      "execution_count": null,
      "outputs": [
        {
          "output_type": "execute_result",
          "data": {
            "application/vnd.google.colaboratory.intrinsic+json": {
              "type": "string"
            },
            "text/plain": [
              "'The speed of transmission is an important point of difference between the two viruses. However, estimates for both COVID-19 and influenza viruses are very context and time-specific, making direct comparisons more difficult.'"
            ]
          },
          "metadata": {},
          "execution_count": 7
        }
      ]
    },
    {
      "cell_type": "code",
      "metadata": {
        "id": "qawH3sGMUQWW"
      },
      "source": [
        "summary = ' '.join(result)"
      ],
      "execution_count": null,
      "outputs": []
    },
    {
      "cell_type": "code",
      "metadata": {
        "colab": {
          "base_uri": "https://localhost:8080/",
          "height": 69
        },
        "id": "jHv_QTUIUTPE",
        "outputId": "eb650bf2-b4f7-477c-c48f-dc4cde4dafc4"
      },
      "source": [
        "summary"
      ],
      "execution_count": null,
      "outputs": [
        {
          "output_type": "execute_result",
          "data": {
            "application/vnd.google.colaboratory.intrinsic+json": {
              "type": "string"
            },
            "text/plain": [
              "'T h e   s p e e d   o f   t r a n s m i s s i o n   i s   a n   i m p o r t a n t   p o i n t   o f   d i f f e r e n c e   b e t w e e n   t h e   t w o   v i r u s e s .   H o w e v e r ,   e s t i m a t e s   f o r   b o t h   C O V I D - 1 9   a n d   i n f l u e n z a   v i r u s e s   a r e   v e r y   c o n t e x t   a n d   t i m e - s p e c i f i c ,   m a k i n g   d i r e c t   c o m p a r i s o n s   m o r e   d i f f i c u l t .'"
            ]
          },
          "metadata": {},
          "execution_count": 9
        }
      ]
    },
    {
      "cell_type": "code",
      "metadata": {
        "colab": {
          "base_uri": "https://localhost:8080/",
          "height": 120
        },
        "id": "7wYGxL91UUGT",
        "outputId": "8721ff44-3dcb-4eba-9986-38db4a05cba3"
      },
      "source": [
        "covid_text"
      ],
      "execution_count": null,
      "outputs": [
        {
          "output_type": "execute_result",
          "data": {
            "application/vnd.google.colaboratory.intrinsic+json": {
              "type": "string"
            },
            "text/plain": [
              "'\\nThe speed of transmission is an important point of difference between the two viruses. Influenza has a shorter median incubation period (the time from infection to appearance of symptoms) and a shorter serial interval (the time between successive cases) than COVID-19 virus. The serial interval for COVID-19 virus is estimated to be 5-6 days, while for influenza virus, the serial interval is 3 days. This means that influenza can spread faster than COVID-19. \\n\\nFurther, transmission in the first 3-5 days of illness, or potentially pre-symptomatic transmission –transmission of the virus before the appearance of symptoms – is a major driver of transmission for influenza. In contrast, while we are learning that there are people who can shed COVID-19 virus 24-48 hours prior to symptom onset, at present, this does not appear to be a major driver of transmission. \\n\\nThe reproductive number – the number of secondary infections generated from one infected individual – is understood to be between 2 and 2.5 for COVID-19 virus, higher than for influenza. However, estimates for both COVID-19 and influenza viruses are very context and time-specific, making direct comparisons more difficult. '"
            ]
          },
          "metadata": {},
          "execution_count": 10
        }
      ]
    },
    {
      "cell_type": "markdown",
      "metadata": {
        "id": "UTE0vzXIUkqv"
      },
      "source": [
        "## Bulding the model"
      ]
    },
    {
      "cell_type": "code",
      "metadata": {
        "id": "euzeulHsUkcc"
      },
      "source": [
        "import tensorflow_hub as hub\n",
        "from keras import layers\n",
        "import tensorflow_text as text"
      ],
      "execution_count": 22,
      "outputs": []
    },
    {
      "cell_type": "code",
      "metadata": {
        "colab": {
          "base_uri": "https://localhost:8080/"
        },
        "id": "7dHpC6ZxWQNx",
        "outputId": "7a9eb025-3564-424f-fb85-032b49d1ff32"
      },
      "source": [
        "!pip install tensorflow_text"
      ],
      "execution_count": 21,
      "outputs": [
        {
          "output_type": "stream",
          "name": "stdout",
          "text": [
            "Collecting tensorflow_text\n",
            "  Downloading tensorflow_text-2.6.0-cp37-cp37m-manylinux1_x86_64.whl (4.4 MB)\n",
            "\u001b[K     |████████████████████████████████| 4.4 MB 5.2 MB/s \n",
            "\u001b[?25hRequirement already satisfied: tensorflow-hub>=0.8.0 in /usr/local/lib/python3.7/dist-packages (from tensorflow_text) (0.12.0)\n",
            "Requirement already satisfied: tensorflow<2.7,>=2.6.0 in /usr/local/lib/python3.7/dist-packages (from tensorflow_text) (2.6.0)\n",
            "Requirement already satisfied: six~=1.15.0 in /usr/local/lib/python3.7/dist-packages (from tensorflow<2.7,>=2.6.0->tensorflow_text) (1.15.0)\n",
            "Requirement already satisfied: wheel~=0.35 in /usr/local/lib/python3.7/dist-packages (from tensorflow<2.7,>=2.6.0->tensorflow_text) (0.37.0)\n",
            "Requirement already satisfied: keras~=2.6 in /usr/local/lib/python3.7/dist-packages (from tensorflow<2.7,>=2.6.0->tensorflow_text) (2.6.0)\n",
            "Requirement already satisfied: grpcio<2.0,>=1.37.0 in /usr/local/lib/python3.7/dist-packages (from tensorflow<2.7,>=2.6.0->tensorflow_text) (1.41.0)\n",
            "Requirement already satisfied: clang~=5.0 in /usr/local/lib/python3.7/dist-packages (from tensorflow<2.7,>=2.6.0->tensorflow_text) (5.0)\n",
            "Requirement already satisfied: opt-einsum~=3.3.0 in /usr/local/lib/python3.7/dist-packages (from tensorflow<2.7,>=2.6.0->tensorflow_text) (3.3.0)\n",
            "Requirement already satisfied: tensorflow-estimator~=2.6 in /usr/local/lib/python3.7/dist-packages (from tensorflow<2.7,>=2.6.0->tensorflow_text) (2.6.0)\n",
            "Requirement already satisfied: keras-preprocessing~=1.1.2 in /usr/local/lib/python3.7/dist-packages (from tensorflow<2.7,>=2.6.0->tensorflow_text) (1.1.2)\n",
            "Requirement already satisfied: flatbuffers~=1.12.0 in /usr/local/lib/python3.7/dist-packages (from tensorflow<2.7,>=2.6.0->tensorflow_text) (1.12)\n",
            "Requirement already satisfied: protobuf>=3.9.2 in /usr/local/lib/python3.7/dist-packages (from tensorflow<2.7,>=2.6.0->tensorflow_text) (3.17.3)\n",
            "Requirement already satisfied: numpy~=1.19.2 in /usr/local/lib/python3.7/dist-packages (from tensorflow<2.7,>=2.6.0->tensorflow_text) (1.19.5)\n",
            "Requirement already satisfied: typing-extensions~=3.7.4 in /usr/local/lib/python3.7/dist-packages (from tensorflow<2.7,>=2.6.0->tensorflow_text) (3.7.4.3)\n",
            "Requirement already satisfied: google-pasta~=0.2 in /usr/local/lib/python3.7/dist-packages (from tensorflow<2.7,>=2.6.0->tensorflow_text) (0.2.0)\n",
            "Requirement already satisfied: termcolor~=1.1.0 in /usr/local/lib/python3.7/dist-packages (from tensorflow<2.7,>=2.6.0->tensorflow_text) (1.1.0)\n",
            "Requirement already satisfied: tensorboard~=2.6 in /usr/local/lib/python3.7/dist-packages (from tensorflow<2.7,>=2.6.0->tensorflow_text) (2.6.0)\n",
            "Requirement already satisfied: astunparse~=1.6.3 in /usr/local/lib/python3.7/dist-packages (from tensorflow<2.7,>=2.6.0->tensorflow_text) (1.6.3)\n",
            "Requirement already satisfied: wrapt~=1.12.1 in /usr/local/lib/python3.7/dist-packages (from tensorflow<2.7,>=2.6.0->tensorflow_text) (1.12.1)\n",
            "Requirement already satisfied: absl-py~=0.10 in /usr/local/lib/python3.7/dist-packages (from tensorflow<2.7,>=2.6.0->tensorflow_text) (0.12.0)\n",
            "Requirement already satisfied: gast==0.4.0 in /usr/local/lib/python3.7/dist-packages (from tensorflow<2.7,>=2.6.0->tensorflow_text) (0.4.0)\n",
            "Requirement already satisfied: h5py~=3.1.0 in /usr/local/lib/python3.7/dist-packages (from tensorflow<2.7,>=2.6.0->tensorflow_text) (3.1.0)\n",
            "Requirement already satisfied: cached-property in /usr/local/lib/python3.7/dist-packages (from h5py~=3.1.0->tensorflow<2.7,>=2.6.0->tensorflow_text) (1.5.2)\n",
            "Requirement already satisfied: markdown>=2.6.8 in /usr/local/lib/python3.7/dist-packages (from tensorboard~=2.6->tensorflow<2.7,>=2.6.0->tensorflow_text) (3.3.4)\n",
            "Requirement already satisfied: setuptools>=41.0.0 in /usr/local/lib/python3.7/dist-packages (from tensorboard~=2.6->tensorflow<2.7,>=2.6.0->tensorflow_text) (57.4.0)\n",
            "Requirement already satisfied: werkzeug>=0.11.15 in /usr/local/lib/python3.7/dist-packages (from tensorboard~=2.6->tensorflow<2.7,>=2.6.0->tensorflow_text) (1.0.1)\n",
            "Requirement already satisfied: tensorboard-data-server<0.7.0,>=0.6.0 in /usr/local/lib/python3.7/dist-packages (from tensorboard~=2.6->tensorflow<2.7,>=2.6.0->tensorflow_text) (0.6.1)\n",
            "Requirement already satisfied: google-auth-oauthlib<0.5,>=0.4.1 in /usr/local/lib/python3.7/dist-packages (from tensorboard~=2.6->tensorflow<2.7,>=2.6.0->tensorflow_text) (0.4.6)\n",
            "Requirement already satisfied: tensorboard-plugin-wit>=1.6.0 in /usr/local/lib/python3.7/dist-packages (from tensorboard~=2.6->tensorflow<2.7,>=2.6.0->tensorflow_text) (1.8.0)\n",
            "Requirement already satisfied: requests<3,>=2.21.0 in /usr/local/lib/python3.7/dist-packages (from tensorboard~=2.6->tensorflow<2.7,>=2.6.0->tensorflow_text) (2.23.0)\n",
            "Requirement already satisfied: google-auth<2,>=1.6.3 in /usr/local/lib/python3.7/dist-packages (from tensorboard~=2.6->tensorflow<2.7,>=2.6.0->tensorflow_text) (1.35.0)\n",
            "Requirement already satisfied: pyasn1-modules>=0.2.1 in /usr/local/lib/python3.7/dist-packages (from google-auth<2,>=1.6.3->tensorboard~=2.6->tensorflow<2.7,>=2.6.0->tensorflow_text) (0.2.8)\n",
            "Requirement already satisfied: cachetools<5.0,>=2.0.0 in /usr/local/lib/python3.7/dist-packages (from google-auth<2,>=1.6.3->tensorboard~=2.6->tensorflow<2.7,>=2.6.0->tensorflow_text) (4.2.4)\n",
            "Requirement already satisfied: rsa<5,>=3.1.4 in /usr/local/lib/python3.7/dist-packages (from google-auth<2,>=1.6.3->tensorboard~=2.6->tensorflow<2.7,>=2.6.0->tensorflow_text) (4.7.2)\n",
            "Requirement already satisfied: requests-oauthlib>=0.7.0 in /usr/local/lib/python3.7/dist-packages (from google-auth-oauthlib<0.5,>=0.4.1->tensorboard~=2.6->tensorflow<2.7,>=2.6.0->tensorflow_text) (1.3.0)\n",
            "Requirement already satisfied: importlib-metadata in /usr/local/lib/python3.7/dist-packages (from markdown>=2.6.8->tensorboard~=2.6->tensorflow<2.7,>=2.6.0->tensorflow_text) (4.8.1)\n",
            "Requirement already satisfied: pyasn1<0.5.0,>=0.4.6 in /usr/local/lib/python3.7/dist-packages (from pyasn1-modules>=0.2.1->google-auth<2,>=1.6.3->tensorboard~=2.6->tensorflow<2.7,>=2.6.0->tensorflow_text) (0.4.8)\n",
            "Requirement already satisfied: idna<3,>=2.5 in /usr/local/lib/python3.7/dist-packages (from requests<3,>=2.21.0->tensorboard~=2.6->tensorflow<2.7,>=2.6.0->tensorflow_text) (2.10)\n",
            "Requirement already satisfied: chardet<4,>=3.0.2 in /usr/local/lib/python3.7/dist-packages (from requests<3,>=2.21.0->tensorboard~=2.6->tensorflow<2.7,>=2.6.0->tensorflow_text) (3.0.4)\n",
            "Requirement already satisfied: certifi>=2017.4.17 in /usr/local/lib/python3.7/dist-packages (from requests<3,>=2.21.0->tensorboard~=2.6->tensorflow<2.7,>=2.6.0->tensorflow_text) (2021.5.30)\n",
            "Requirement already satisfied: urllib3!=1.25.0,!=1.25.1,<1.26,>=1.21.1 in /usr/local/lib/python3.7/dist-packages (from requests<3,>=2.21.0->tensorboard~=2.6->tensorflow<2.7,>=2.6.0->tensorflow_text) (1.24.3)\n",
            "Requirement already satisfied: oauthlib>=3.0.0 in /usr/local/lib/python3.7/dist-packages (from requests-oauthlib>=0.7.0->google-auth-oauthlib<0.5,>=0.4.1->tensorboard~=2.6->tensorflow<2.7,>=2.6.0->tensorflow_text) (3.1.1)\n",
            "Requirement already satisfied: zipp>=0.5 in /usr/local/lib/python3.7/dist-packages (from importlib-metadata->markdown>=2.6.8->tensorboard~=2.6->tensorflow<2.7,>=2.6.0->tensorflow_text) (3.6.0)\n",
            "Installing collected packages: tensorflow-text\n",
            "Successfully installed tensorflow-text-2.6.0\n"
          ]
        }
      ]
    },
    {
      "cell_type": "code",
      "metadata": {
        "id": "LsaZzBPZUi3N"
      },
      "source": [
        "preprocess_url = \"https://tfhub.dev/tensorflow/bert_en_uncased_preprocess/3\"\n",
        "encoder_url = \"https://tfhub.dev/tensorflow/bert_en_uncased_L-12_H-768_A-12/4\""
      ],
      "execution_count": 50,
      "outputs": []
    },
    {
      "cell_type": "code",
      "metadata": {
        "id": "WG4v1MPuVYT3"
      },
      "source": [
        "bert_preprocess_model = hub.KerasLayer(preprocess_url)\n",
        "bert_encoder_model = hub.KerasLayer(encoder_url)"
      ],
      "execution_count": 51,
      "outputs": []
    },
    {
      "cell_type": "code",
      "metadata": {
        "id": "5psBMloBVjbJ"
      },
      "source": [
        "sent = ['he is a good boy','she is a good girl','he is a bad boy']"
      ],
      "execution_count": 25,
      "outputs": []
    },
    {
      "cell_type": "code",
      "metadata": {
        "id": "zTxMiPysWgzA"
      },
      "source": [
        "preprocessed = bert_preprocess_model(sent)"
      ],
      "execution_count": 26,
      "outputs": []
    },
    {
      "cell_type": "code",
      "metadata": {
        "colab": {
          "base_uri": "https://localhost:8080/"
        },
        "id": "jYpXtNUgWmZ9",
        "outputId": "ec75df01-11a9-46cf-d6ae-8f0dbd613f40"
      },
      "source": [
        "preprocessed.keys()"
      ],
      "execution_count": 27,
      "outputs": [
        {
          "output_type": "execute_result",
          "data": {
            "text/plain": [
              "dict_keys(['input_type_ids', 'input_mask', 'input_word_ids'])"
            ]
          },
          "metadata": {},
          "execution_count": 27
        }
      ]
    },
    {
      "cell_type": "code",
      "metadata": {
        "colab": {
          "base_uri": "https://localhost:8080/"
        },
        "id": "-kfcCgMdWo9V",
        "outputId": "1940882a-47b9-4054-c46a-81555a5dba27"
      },
      "source": [
        "preprocessed['input_word_ids']"
      ],
      "execution_count": 28,
      "outputs": [
        {
          "output_type": "execute_result",
          "data": {
            "text/plain": [
              "<tf.Tensor: shape=(3, 128), dtype=int32, numpy=\n",
              "array([[ 101, 2002, 2003, 1037, 2204, 2879,  102,    0,    0,    0,    0,\n",
              "           0,    0,    0,    0,    0,    0,    0,    0,    0,    0,    0,\n",
              "           0,    0,    0,    0,    0,    0,    0,    0,    0,    0,    0,\n",
              "           0,    0,    0,    0,    0,    0,    0,    0,    0,    0,    0,\n",
              "           0,    0,    0,    0,    0,    0,    0,    0,    0,    0,    0,\n",
              "           0,    0,    0,    0,    0,    0,    0,    0,    0,    0,    0,\n",
              "           0,    0,    0,    0,    0,    0,    0,    0,    0,    0,    0,\n",
              "           0,    0,    0,    0,    0,    0,    0,    0,    0,    0,    0,\n",
              "           0,    0,    0,    0,    0,    0,    0,    0,    0,    0,    0,\n",
              "           0,    0,    0,    0,    0,    0,    0,    0,    0,    0,    0,\n",
              "           0,    0,    0,    0,    0,    0,    0,    0,    0,    0,    0,\n",
              "           0,    0,    0,    0,    0,    0,    0],\n",
              "       [ 101, 2016, 2003, 1037, 2204, 2611,  102,    0,    0,    0,    0,\n",
              "           0,    0,    0,    0,    0,    0,    0,    0,    0,    0,    0,\n",
              "           0,    0,    0,    0,    0,    0,    0,    0,    0,    0,    0,\n",
              "           0,    0,    0,    0,    0,    0,    0,    0,    0,    0,    0,\n",
              "           0,    0,    0,    0,    0,    0,    0,    0,    0,    0,    0,\n",
              "           0,    0,    0,    0,    0,    0,    0,    0,    0,    0,    0,\n",
              "           0,    0,    0,    0,    0,    0,    0,    0,    0,    0,    0,\n",
              "           0,    0,    0,    0,    0,    0,    0,    0,    0,    0,    0,\n",
              "           0,    0,    0,    0,    0,    0,    0,    0,    0,    0,    0,\n",
              "           0,    0,    0,    0,    0,    0,    0,    0,    0,    0,    0,\n",
              "           0,    0,    0,    0,    0,    0,    0,    0,    0,    0,    0,\n",
              "           0,    0,    0,    0,    0,    0,    0],\n",
              "       [ 101, 2002, 2003, 1037, 2919, 2879,  102,    0,    0,    0,    0,\n",
              "           0,    0,    0,    0,    0,    0,    0,    0,    0,    0,    0,\n",
              "           0,    0,    0,    0,    0,    0,    0,    0,    0,    0,    0,\n",
              "           0,    0,    0,    0,    0,    0,    0,    0,    0,    0,    0,\n",
              "           0,    0,    0,    0,    0,    0,    0,    0,    0,    0,    0,\n",
              "           0,    0,    0,    0,    0,    0,    0,    0,    0,    0,    0,\n",
              "           0,    0,    0,    0,    0,    0,    0,    0,    0,    0,    0,\n",
              "           0,    0,    0,    0,    0,    0,    0,    0,    0,    0,    0,\n",
              "           0,    0,    0,    0,    0,    0,    0,    0,    0,    0,    0,\n",
              "           0,    0,    0,    0,    0,    0,    0,    0,    0,    0,    0,\n",
              "           0,    0,    0,    0,    0,    0,    0,    0,    0,    0,    0,\n",
              "           0,    0,    0,    0,    0,    0,    0]], dtype=int32)>"
            ]
          },
          "metadata": {},
          "execution_count": 28
        }
      ]
    },
    {
      "cell_type": "code",
      "metadata": {
        "id": "uAOnUjEwWu9i"
      },
      "source": [
        "encoded = bert_encoder_model(preprocessed)"
      ],
      "execution_count": 29,
      "outputs": []
    },
    {
      "cell_type": "code",
      "metadata": {
        "colab": {
          "base_uri": "https://localhost:8080/"
        },
        "id": "MR20xRNOXF9A",
        "outputId": "ea62f1fd-57a8-445e-e7e5-43e63f9df970"
      },
      "source": [
        "encoded.keys()"
      ],
      "execution_count": 30,
      "outputs": [
        {
          "output_type": "execute_result",
          "data": {
            "text/plain": [
              "dict_keys(['pooled_output', 'default', 'sequence_output', 'encoder_outputs'])"
            ]
          },
          "metadata": {},
          "execution_count": 30
        }
      ]
    },
    {
      "cell_type": "code",
      "metadata": {
        "colab": {
          "base_uri": "https://localhost:8080/"
        },
        "id": "sD6J5riOXIjq",
        "outputId": "196949f2-312a-45b3-b74a-6bef39f70b71"
      },
      "source": [
        "encoded['pooled_output']"
      ],
      "execution_count": 32,
      "outputs": [
        {
          "output_type": "execute_result",
          "data": {
            "text/plain": [
              "<tf.Tensor: shape=(3, 768), dtype=float32, numpy=\n",
              "array([[-0.85943204, -0.4148627 , -0.71187615, ..., -0.37655276,\n",
              "        -0.6816058 ,  0.8787798 ],\n",
              "       [-0.87792015, -0.3794878 , -0.57588845, ..., -0.10914135,\n",
              "        -0.6796491 ,  0.9089936 ],\n",
              "       [-0.8479175 , -0.40923095, -0.5687729 , ..., -0.1769114 ,\n",
              "        -0.65430003,  0.8645711 ]], dtype=float32)>"
            ]
          },
          "metadata": {},
          "execution_count": 32
        }
      ]
    },
    {
      "cell_type": "code",
      "metadata": {
        "id": "JpAk740GXQA8"
      },
      "source": [
        "vector1 = encoded['pooled_output'][0]\n",
        "vector2 = encoded['pooled_output'][1]\n",
        "vector3 = encoded['pooled_output'][2]"
      ],
      "execution_count": 33,
      "outputs": []
    },
    {
      "cell_type": "code",
      "metadata": {
        "id": "mTHQdAYqXXlO"
      },
      "source": [
        "from sklearn.metrics.pairwise import cosine_similarity"
      ],
      "execution_count": 35,
      "outputs": []
    },
    {
      "cell_type": "code",
      "metadata": {
        "id": "-_1Crvr-XY2q"
      },
      "source": [
        "cs1 = cosine_similarity([vector1],[vector2])\n",
        "cs2 = cosine_similarity([vector2],[vector3])\n",
        "cs3 = cosine_similarity([vector1],[vector3])"
      ],
      "execution_count": 36,
      "outputs": []
    },
    {
      "cell_type": "code",
      "metadata": {
        "colab": {
          "base_uri": "https://localhost:8080/"
        },
        "id": "X9IapWweXzw_",
        "outputId": "1f737e4c-e76f-408f-baf2-822ea04ebdaf"
      },
      "source": [
        "print(cs1)"
      ],
      "execution_count": 37,
      "outputs": [
        {
          "output_type": "stream",
          "name": "stdout",
          "text": [
            "[[0.991997]]\n"
          ]
        }
      ]
    },
    {
      "cell_type": "code",
      "metadata": {
        "colab": {
          "base_uri": "https://localhost:8080/"
        },
        "id": "m8U-s4-7X7PX",
        "outputId": "1498a529-ef08-4a91-8fcc-96aa8ae872af"
      },
      "source": [
        "print(cs2)"
      ],
      "execution_count": 38,
      "outputs": [
        {
          "output_type": "stream",
          "name": "stdout",
          "text": [
            "[[0.9911562]]\n"
          ]
        }
      ]
    },
    {
      "cell_type": "code",
      "metadata": {
        "colab": {
          "base_uri": "https://localhost:8080/"
        },
        "id": "JppIuPRMX8G6",
        "outputId": "fa7439a4-a1e3-46a5-f5eb-16af9b57c969"
      },
      "source": [
        "print(cs3)"
      ],
      "execution_count": 39,
      "outputs": [
        {
          "output_type": "stream",
          "name": "stdout",
          "text": [
            "[[0.99004745]]\n"
          ]
        }
      ]
    },
    {
      "cell_type": "code",
      "metadata": {
        "id": "HklFwdkxYpqp"
      },
      "source": [
        "text_corpus = 'Influenza has a shorter median incubation period (the time from infection to appearance of symptoms) and a shorter serial interval than COVID-19 virus. The serial interval for COVID-19 virus is estimated to be 5-6 days, while for influenza virus, the serial interval is 3 days. This means that influenza can spread faster than COVID-19. Further, transmission in the first 3-5 days of illness, or potentially pre-symptomatic transmission –transmission of the virus before the appearance of symptoms – is a major driver of transmission for influenza. In contrast, while we are learning that there are people who can shed COVID-19 virus 24-48 hours prior to symptom onset, at present, this does not appear to be a major driver of transmission.'"
      ],
      "execution_count": 46,
      "outputs": []
    },
    {
      "cell_type": "code",
      "metadata": {
        "id": "gAxr9u-YZ0Ew"
      },
      "source": [
        "count = 0\n",
        "for i in text_corpus.split(' '):\n",
        "  count+=1"
      ],
      "execution_count": 47,
      "outputs": []
    },
    {
      "cell_type": "code",
      "metadata": {
        "colab": {
          "base_uri": "https://localhost:8080/"
        },
        "id": "0VNXpW2eZ770",
        "outputId": "3a2f8207-24fc-4a61-d9ae-f95fc20d683d"
      },
      "source": [
        "count"
      ],
      "execution_count": 48,
      "outputs": [
        {
          "output_type": "execute_result",
          "data": {
            "text/plain": [
              "119"
            ]
          },
          "metadata": {},
          "execution_count": 48
        }
      ]
    },
    {
      "cell_type": "code",
      "metadata": {
        "id": "m6Fxd_tyZ8x7"
      },
      "source": [
        "preprocessed_text = bert_preprocess_model([text_corpus])"
      ],
      "execution_count": 53,
      "outputs": []
    },
    {
      "cell_type": "code",
      "metadata": {
        "id": "wtr0hTjIah5J"
      },
      "source": [
        "encoded_text = bert_encoder_model(preprocessed_text)"
      ],
      "execution_count": 54,
      "outputs": []
    },
    {
      "cell_type": "code",
      "metadata": {
        "id": "z0mQoqkQa8ch"
      },
      "source": [
        "vector_of_corpus = encoded_text['pooled_output']"
      ],
      "execution_count": 57,
      "outputs": []
    },
    {
      "cell_type": "code",
      "metadata": {
        "colab": {
          "base_uri": "https://localhost:8080/"
        },
        "id": "OzQpf6xZcmML",
        "outputId": "0b794bba-29cb-4afb-8706-02211cc3557d"
      },
      "source": [
        "vector_of_corpus."
      ],
      "execution_count": 78,
      "outputs": [
        {
          "output_type": "execute_result",
          "data": {
            "text/plain": [
              "<tf.Tensor: shape=(1, 768), dtype=float32, numpy=\n",
              "array([[-0.82020706, -0.71162957, -0.9610132 ,  0.37239084,  0.8438916 ,\n",
              "        -0.52430946, -0.50336313,  0.5879254 , -0.91108257, -0.99991846,\n",
              "        -0.69530654,  0.9617434 ,  0.94929475,  0.51623654,  0.5477869 ,\n",
              "        -0.45229408,  0.07507989, -0.55753434,  0.41140497,  0.91709775,\n",
              "         0.43958792,  0.99999905, -0.4622987 ,  0.6379905 ,  0.56359446,\n",
              "         0.9926872 , -0.68933415,  0.72796917,  0.83568615,  0.6126168 ,\n",
              "         0.12093206,  0.48534682, -0.9825011 , -0.40120205, -0.9758681 ,\n",
              "        -0.9554166 ,  0.6478666 , -0.3925985 , -0.21309346, -0.2801414 ,\n",
              "        -0.6086518 ,  0.5724905 ,  0.99997115, -0.36532646,  0.68208605,\n",
              "        -0.27188066, -0.9999995 ,  0.31879786, -0.39929238,  0.95912933,\n",
              "         0.92730874,  0.98356724,  0.45266443,  0.6232694 ,  0.686016  ,\n",
              "        -0.8713355 ,  0.16391192,  0.32484263, -0.5373567 , -0.6843958 ,\n",
              "        -0.69403166,  0.607241  , -0.8762638 , -0.5733665 ,  0.9318678 ,\n",
              "         0.80496365, -0.54813033, -0.5111314 , -0.38008988,  0.11184143,\n",
              "         0.2288152 ,  0.5497986 , -0.5876177 , -0.7465311 ,  0.83920777,\n",
              "         0.54003   , -0.6853925 ,  1.        , -0.22339359, -0.9279    ,\n",
              "         0.9407048 ,  0.8599228 ,  0.5792184 , -0.45854485,  0.55561376,\n",
              "        -1.        ,  0.7234252 , -0.4767156 , -0.95282954,  0.5499629 ,\n",
              "         0.70574915, -0.58369726,  0.8822773 ,  0.67149705, -0.4568812 ,\n",
              "        -0.8107045 , -0.44258803, -0.95599043, -0.4664161 , -0.5961167 ,\n",
              "         0.3843075 , -0.45217606, -0.7453016 , -0.52453446,  0.56492776,\n",
              "        -0.70140564,  0.47604093,  0.628745  ,  0.11474457,  0.67847544,\n",
              "         0.6736742 , -0.5356623 ,  0.61365837, -0.81003994,  0.69296974,\n",
              "        -0.59424233, -0.9683472 , -0.6567588 , -0.96711534,  0.5622452 ,\n",
              "        -0.23605852, -0.6666968 ,  0.62707037, -0.7003049 ,  0.6660067 ,\n",
              "        -0.5119382 , -0.9757114 , -1.        , -0.6160226 , -0.6969422 ,\n",
              "        -0.5111703 , -0.42304492, -0.93270445, -0.90132564,  0.7551822 ,\n",
              "         0.7834132 ,  0.52953786,  0.99978924, -0.6626378 ,  0.8330452 ,\n",
              "        -0.38232067, -0.7583438 ,  0.6400292 , -0.48803413,  0.7892841 ,\n",
              "        -0.61369985,  0.43650487,  0.49946716, -0.83900756,  0.71117824,\n",
              "        -0.6490878 , -0.6004032 , -0.85816234, -0.41693562, -0.55702156,\n",
              "         0.7827729 , -0.59232754, -0.9600206 , -0.29328018, -0.47721553,\n",
              "        -0.21332784,  0.4782279 ,  0.7120042 ,  0.4952263 , -0.50617754,\n",
              "         0.6676098 , -0.32050458,  0.57436174, -0.57042533, -0.53261507,\n",
              "         0.43272147, -0.69023746, -0.8710196 , -0.95650274, -0.6361437 ,\n",
              "         0.29240704,  0.9181418 ,  0.20625141,  0.46492898,  0.79355973,\n",
              "        -0.45458475,  0.7670786 , -0.9159024 ,  0.9494739 , -0.26161152,\n",
              "         0.4382287 , -0.82530445,  0.7789151 , -0.4393617 ,  0.35858992,\n",
              "         0.42771044, -0.78153765, -0.6656756 , -0.33070433, -0.7013261 ,\n",
              "        -0.623595  , -0.9433242 ,  0.2962305 , -0.41173813, -0.38859093,\n",
              "        -0.37393114,  0.6741144 ,  0.6126032 ,  0.03396598,  0.6517398 ,\n",
              "         0.48972118, -0.41805393,  0.24003519,  0.4118531 ,  0.364506  ,\n",
              "         0.3942133 ,  0.96865284, -0.89408386, -0.35403016, -0.6238617 ,\n",
              "        -0.89510095,  0.22197326, -0.35459527, -0.46743143, -0.36830223,\n",
              "         0.82451427, -0.9206157 ,  0.45030963,  0.42912802,  0.8422756 ,\n",
              "        -0.2800313 ,  0.3887452 , -0.73168397,  0.65600854, -0.55190355,\n",
              "         0.97477674,  0.9605949 , -0.53707486, -0.74934983,  0.95894253,\n",
              "        -0.9757788 , -0.67492676, -0.6242195 , -0.428342  ,  0.08656137,\n",
              "        -0.76818603,  0.9682499 ,  0.923066  ,  0.6972422 , -0.75698763,\n",
              "        -0.81294006,  0.31051674, -0.6012439 , -0.66998523, -0.04166118,\n",
              "         0.92860705,  0.7365752 ,  0.6871181 ,  0.41689637, -0.47196802,\n",
              "         0.30107296, -0.96738845, -0.83511597, -0.9724285 , -0.31498718,\n",
              "        -0.95442057,  0.79932284,  0.55761   ,  0.88148487, -0.622374  ,\n",
              "        -0.5999963 , -0.81697005, -0.17830962,  0.42338383, -0.09854181,\n",
              "        -0.8218911 , -0.3469414 , -0.72472245, -0.87482816,  0.20786381,\n",
              "        -0.4144691 , -0.7404743 ,  0.37354356, -0.46102962,  0.6217894 ,\n",
              "         0.5699254 ,  0.62894493, -0.93004084,  0.8845349 ,  1.        ,\n",
              "         0.90602493,  0.4998213 ,  0.0969312 , -0.9999876 , -0.9679278 ,\n",
              "         0.9999703 , -0.99761325, -1.        , -0.7324001 , -0.64250183,\n",
              "         0.28155366, -1.        , -0.50236106, -0.25569513, -0.562517  ,\n",
              "         0.8059411 ,  0.8881266 ,  0.15752164, -1.        ,  0.65706944,\n",
              "         0.7140535 , -0.71129435,  0.94751865, -0.75873786,  0.94561106,\n",
              "         0.45116806,  0.78109455, -0.320526  ,  0.64441925, -0.9650497 ,\n",
              "        -0.57944816, -0.7071583 , -0.87826735,  0.9998795 ,  0.3070209 ,\n",
              "        -0.6492681 , -0.4745311 ,  0.7978124 , -0.5674233 ,  0.24687886,\n",
              "        -0.85335416, -0.6070483 ,  0.7319369 ,  0.42803246,  0.466131  ,\n",
              "         0.40296254, -0.01029226,  0.53680056,  0.30708495, -0.13966547,\n",
              "         0.70105934, -0.8039748 ,  0.37455177,  0.1768676 ,  0.48944327,\n",
              "        -0.67900467, -0.9731106 ,  0.9034866 , -0.5474227 ,  0.897267  ,\n",
              "         1.        ,  0.88191056, -0.33351976,  0.68277806,  0.249522  ,\n",
              "        -0.06358713,  1.        ,  0.7570641 , -0.9537798 , -0.7177881 ,\n",
              "         0.8266133 , -0.81125784, -0.82180804,  0.9981795 , -0.3441743 ,\n",
              "        -0.8448916 , -0.7788792 ,  0.97150046, -0.95657754,  0.9990159 ,\n",
              "        -0.19804546, -0.89065224,  0.85522413,  0.66149986, -0.720952  ,\n",
              "        -0.4019316 ,  0.26623926, -0.4657547 ,  0.48595014,  0.04519888,\n",
              "         0.71569806,  0.3293975 , -0.34063393,  0.5609177 ,  0.6849178 ,\n",
              "        -0.6716643 ,  0.46225303, -0.81712866, -0.43654376,  0.9557273 ,\n",
              "         0.43018126, -0.44269148,  0.29353026, -0.40493146, -0.9026904 ,\n",
              "        -0.9100841 ,  0.82833666,  1.        , -0.7757999 ,  0.9126407 ,\n",
              "        -0.22612739, -0.4364321 ,  0.44265568,  0.7337743 ,  0.77716726,\n",
              "        -0.48551986, -0.54724866,  0.8695957 ,  0.03006671, -0.9777114 ,\n",
              "        -0.4785038 ,  0.4528379 , -0.22984946,  0.9999673 ,  0.47331774,\n",
              "         0.3824023 ,  0.50260824,  0.994445  ,  0.33656973, -0.03155572,\n",
              "         0.9501395 ,  0.95056146, -0.6318552 ,  0.76374775, -0.3005459 ,\n",
              "        -0.9427058 , -0.5210052 , -0.57413375,  0.36786672, -0.8639248 ,\n",
              "        -0.5289986 , -0.8612911 ,  0.8851354 ,  0.9810995 ,  0.6057685 ,\n",
              "         0.39151263,  0.92227113,  1.        , -0.9914467 , -0.01308379,\n",
              "         0.9264765 , -0.6839229 , -0.99997866,  0.43133947, -0.5603082 ,\n",
              "        -0.28781927, -0.8772407 , -0.3085217 ,  0.5704914 , -0.8566133 ,\n",
              "         0.9161041 ,  0.86407626, -0.01986119, -0.93108904, -0.6430367 ,\n",
              "         0.01349507,  0.25756136, -0.99413705, -0.54063857, -0.551672  ,\n",
              "         0.6736888 , -0.5272202 , -0.6128575 , -0.54141116, -0.69263595,\n",
              "         0.618788  , -0.58207065,  0.6034521 ,  0.9071423 ,  0.8056899 ,\n",
              "        -0.9779112 , -0.6894156 , -0.37165996, -0.22350927,  0.40597245,\n",
              "        -0.36303872, -0.95943165, -0.5669886 ,  1.        , -0.40550566,\n",
              "         0.9492758 ,  0.11941167,  0.00179494, -0.37471882,  0.39456284,\n",
              "         0.9194071 ,  0.4681848 , -0.51248217, -0.86735064,  0.9507087 ,\n",
              "        -0.65668404,  0.61196214,  0.89130366,  0.54824144,  0.5196372 ,\n",
              "         0.94800144,  0.53647   , -0.13621692,  0.34105667,  0.7817966 ,\n",
              "        -0.34782347, -0.6106687 , -0.16385181, -0.34392437, -0.5883696 ,\n",
              "         0.8403772 ,  1.        ,  0.53140235,  0.9032963 , -0.96820533,\n",
              "        -0.94404393, -0.5507945 ,  1.        ,  0.6970334 , -0.5161633 ,\n",
              "         0.66281897,  0.64185685, -0.30982026, -0.08636687, -0.48217195,\n",
              "        -0.47382653,  0.52573454,  0.37501132,  0.8884188 , -0.61040956,\n",
              "        -0.9665156 , -0.5659364 ,  0.5688995 , -0.9040538 ,  0.9999958 ,\n",
              "        -0.7811569 , -0.32561746, -0.352476  , -0.90991056, -0.993653  ,\n",
              "         0.24964347, -0.94246   , -0.6806874 ,  0.46798307,  0.8566703 ,\n",
              "         0.5889729 , -0.71709496, -0.72158366,  0.9227053 ,  0.7999347 ,\n",
              "        -0.93525994, -0.75426424,  0.8544423 , -0.7842084 ,  0.68129593,\n",
              "         1.        ,  0.6142672 ,  0.719824  ,  0.51332515, -0.11974613,\n",
              "         0.61935425, -0.6492152 ,  0.22665955, -0.6806735 , -0.61178106,\n",
              "        -0.3908862 ,  0.56232893, -0.63347524, -0.98304063,  0.40500185,\n",
              "         0.5299605 , -0.638784  , -0.7256308 , -0.5061334 ,  0.5647912 ,\n",
              "         0.6428659 , -0.5504098 , -0.3445963 ,  0.4961451 , -0.45291886,\n",
              "        -0.57981485, -0.49439755, -0.7153035 , -0.9999992 ,  0.34681332,\n",
              "        -1.        ,  0.9212396 ,  0.22399005, -0.4616565 ,  0.5678685 ,\n",
              "         0.8833938 ,  0.7349697 , -0.43350002, -0.9401494 ,  0.27937722,\n",
              "         0.4408301 , -0.4984232 , -0.6842435 , -0.26213595,  0.615413  ,\n",
              "        -0.3550118 ,  0.31059217, -0.8241203 ,  0.5526252 , -0.48997614,\n",
              "         1.        ,  0.5026316 , -0.7504059 ,  0.34764165,  0.34896392,\n",
              "        -0.48307702,  1.        ,  0.3581982 , -0.9306826 ,  0.37098667,\n",
              "        -0.8688289 , -0.41884384,  0.6592452 ,  0.39623266, -0.7989259 ,\n",
              "        -0.9588799 ,  0.4482123 ,  0.07666558, -0.6836418 ,  0.6703144 ,\n",
              "        -0.53113496, -0.35497737,  0.37343198,  0.9317771 ,  0.9532088 ,\n",
              "         0.7114259 ,  0.4200166 , -0.9722351 , -0.5572702 ,  0.8813683 ,\n",
              "         0.6240065 , -0.64564717,  0.19301385,  1.        ,  0.5408815 ,\n",
              "        -0.6309488 , -0.10221784, -0.48877904, -0.54087514, -0.68471324,\n",
              "         0.45083824,  0.52597344,  0.8477426 , -0.50011295,  0.8074018 ,\n",
              "        -0.96425486,  0.47341192, -0.7658232 , -0.7277076 ,  0.6379951 ,\n",
              "        -0.74211514, -0.95450306, -0.9495096 ,  0.5945451 , -0.64632154,\n",
              "        -0.39664003,  0.39859477,  0.29864755,  0.5452238 ,  0.6376495 ,\n",
              "        -1.        ,  0.8402244 ,  0.57036734,  0.9115062 ,  0.8578991 ,\n",
              "         0.8573588 ,  0.8195816 ,  0.43790963, -0.93837893,  0.5177287 ,\n",
              "        -0.41832387, -0.47873786,  0.01515301,  0.6530252 ,  0.47069165,\n",
              "         0.40856013, -0.37559968, -0.76329917, -0.76922303, -0.98114455,\n",
              "        -0.9628878 ,  0.49668512, -0.6855636 ,  0.12469889,  0.86719984,\n",
              "        -0.3215151 , -0.34760225, -0.2820615 , -0.9559104 , -0.5764948 ,\n",
              "         0.5389542 , -0.2646138 ,  0.1404226 ,  0.22279923,  0.52919084,\n",
              "         0.33694875,  0.95834947, -0.9166743 ,  0.06197337, -0.92303956,\n",
              "         0.74067616,  0.9828168 , -0.85774404,  0.46486008,  0.8706876 ,\n",
              "        -0.06680368,  0.6185909 , -0.45149076,  0.642705  ,  0.89231265,\n",
              "        -0.49131164,  0.52992296, -0.57911944, -0.27888876, -0.48044842,\n",
              "        -0.35963148, -0.4747705 , -0.7102217 ,  0.6224565 ,  0.22131391,\n",
              "         0.79455453,  0.9063428 , -0.36898932, -0.38238108, -0.26786357,\n",
              "        -0.704871  , -0.7683655 , -0.15464447, -0.25527656, -0.2803174 ,\n",
              "         0.838234  ,  0.15372156,  0.99072665,  0.12934583, -0.4709092 ,\n",
              "        -0.4227483 , -0.5226956 ,  0.41212645, -0.9276481 , -0.830525  ,\n",
              "        -0.48627862,  0.6093921 ,  0.47275516,  0.9999995 , -0.87414914,\n",
              "        -0.9272221 , -0.8202941 , -0.5652741 ,  0.47159776, -0.5896575 ,\n",
              "        -1.        ,  0.510899  , -0.67406136,  0.8019176 , -0.7545608 ,\n",
              "         0.91414493, -0.77387077, -0.62052345, -0.6116633 ,  0.9435653 ,\n",
              "         0.81767017, -0.7016957 , -0.48214886,  0.6781515 , -0.76486164,\n",
              "         0.9916762 ,  0.31954068, -0.910847  , -0.17508587,  0.7042437 ,\n",
              "        -0.9540444 , -0.6496895 ,  0.37057105]], dtype=float32)>"
            ]
          },
          "metadata": {},
          "execution_count": 78
        }
      ]
    },
    {
      "cell_type": "code",
      "metadata": {
        "colab": {
          "base_uri": "https://localhost:8080/"
        },
        "id": "8tjETqkPbCUR",
        "outputId": "79dde344-8d78-4af1-e199-49dfb5cf89fb"
      },
      "source": [
        "import nltk\n",
        "nltk.download('punkt')"
      ],
      "execution_count": 60,
      "outputs": [
        {
          "output_type": "stream",
          "name": "stdout",
          "text": [
            "[nltk_data] Downloading package punkt to /root/nltk_data...\n",
            "[nltk_data]   Unzipping tokenizers/punkt.zip.\n"
          ]
        },
        {
          "output_type": "execute_result",
          "data": {
            "text/plain": [
              "True"
            ]
          },
          "metadata": {},
          "execution_count": 60
        }
      ]
    },
    {
      "cell_type": "code",
      "metadata": {
        "id": "oA9F_UzrbGXb"
      },
      "source": [
        "sentences_tokens = nltk.sent_tokenize(text_corpus)"
      ],
      "execution_count": 61,
      "outputs": []
    },
    {
      "cell_type": "code",
      "metadata": {
        "colab": {
          "base_uri": "https://localhost:8080/"
        },
        "id": "wO4tvGncbNLB",
        "outputId": "18b757ed-ee4e-467b-b28d-fa59d9bbaaac"
      },
      "source": [
        "sentences_tokens"
      ],
      "execution_count": 62,
      "outputs": [
        {
          "output_type": "execute_result",
          "data": {
            "text/plain": [
              "['Influenza has a shorter median incubation period (the time from infection to appearance of symptoms) and a shorter serial interval than COVID-19 virus.',\n",
              " 'The serial interval for COVID-19 virus is estimated to be 5-6 days, while for influenza virus, the serial interval is 3 days.',\n",
              " 'This means that influenza can spread faster than COVID-19.',\n",
              " 'Further, transmission in the first 3-5 days of illness, or potentially pre-symptomatic transmission –transmission of the virus before the appearance of symptoms – is a major driver of transmission for influenza.',\n",
              " 'In contrast, while we are learning that there are people who can shed COVID-19 virus 24-48 hours prior to symptom onset, at present, this does not appear to be a major driver of transmission.']"
            ]
          },
          "metadata": {},
          "execution_count": 62
        }
      ]
    },
    {
      "cell_type": "code",
      "metadata": {
        "id": "yuXdlbRSbRls"
      },
      "source": [
        "preprocessed_sent = bert_preprocess_model(sentences_tokens)"
      ],
      "execution_count": 65,
      "outputs": []
    },
    {
      "cell_type": "code",
      "metadata": {
        "id": "tmunUD83bgcV"
      },
      "source": [
        "encoded_sent = bert_encoder_model(preprocessed_sent)"
      ],
      "execution_count": 67,
      "outputs": []
    },
    {
      "cell_type": "code",
      "metadata": {
        "colab": {
          "base_uri": "https://localhost:8080/"
        },
        "id": "7y_dlvQfcVfR",
        "outputId": "7dbc5668-7770-43cf-d873-08a29a833bac"
      },
      "source": [
        "encoded_sent.keys()"
      ],
      "execution_count": 71,
      "outputs": [
        {
          "output_type": "execute_result",
          "data": {
            "text/plain": [
              "dict_keys(['pooled_output', 'encoder_outputs', 'default', 'sequence_output'])"
            ]
          },
          "metadata": {},
          "execution_count": 71
        }
      ]
    },
    {
      "cell_type": "code",
      "metadata": {
        "colab": {
          "base_uri": "https://localhost:8080/"
        },
        "id": "1CjceOcXcey7",
        "outputId": "3d4b0d46-e950-4f9d-e6ea-f5c561029cec"
      },
      "source": [
        "encoded_sent['pooled_output'][0]"
      ],
      "execution_count": 73,
      "outputs": [
        {
          "output_type": "execute_result",
          "data": {
            "text/plain": [
              "<tf.Tensor: shape=(768,), dtype=float32, numpy=\n",
              "array([-0.7131898 , -0.56050396, -0.9036959 ,  0.3431906 ,  0.8131127 ,\n",
              "       -0.3435421 , -0.47681224,  0.42321095, -0.7738512 , -0.99993277,\n",
              "       -0.42024142,  0.9181198 ,  0.9373497 ,  0.24191669,  0.28770226,\n",
              "       -0.5181523 , -0.35054526, -0.3037576 ,  0.1968084 ,  0.8741712 ,\n",
              "        0.35981494,  0.9999975 , -0.5205341 ,  0.4762948 ,  0.3046149 ,\n",
              "        0.9571139 , -0.63518727,  0.5451946 ,  0.78816533,  0.7843985 ,\n",
              "        0.16445433,  0.21175404, -0.9858807 , -0.08049226, -0.93667984,\n",
              "       -0.947552  ,  0.45206788, -0.3901288 , -0.11884613, -0.16094667,\n",
              "       -0.6439906 ,  0.43892306,  0.9999751 , -0.52701557,  0.7364568 ,\n",
              "       -0.13646348, -0.9999921 ,  0.11068229, -0.5143648 ,  0.8912225 ,\n",
              "        0.8047825 ,  0.92145824,  0.25774783,  0.50572854,  0.55349064,\n",
              "       -0.8845447 ,  0.00979453,  0.11240636, -0.43503714, -0.6274159 ,\n",
              "       -0.60009587,  0.39626732, -0.8085093 , -0.63095033,  0.8928511 ,\n",
              "        0.67494637, -0.36354196, -0.3646264 , -0.21143584,  0.06725392,\n",
              "        0.19500893,  0.24146055, -0.09496419, -0.6668336 ,  0.6428647 ,\n",
              "        0.29005492, -0.6811684 ,  1.        , -0.26351964, -0.9418514 ,\n",
              "        0.83818513,  0.6076003 ,  0.51480186, -0.24715388,  0.3072027 ,\n",
              "       -1.        ,  0.52262664, -0.32994848, -0.9673727 ,  0.35393158,\n",
              "        0.73040545, -0.40135136,  0.60816246,  0.6806394 , -0.19043928,\n",
              "       -0.60210663, -0.34140852, -0.92510676, -0.26094705, -0.40268654,\n",
              "        0.1369969 , -0.2385721 , -0.45273   , -0.21441807,  0.44448805,\n",
              "       -0.5368371 ,  0.32694057,  0.09593564,  0.10044038,  0.55124974,\n",
              "        0.61218846, -0.37306955,  0.44577613, -0.7520186 ,  0.4775482 ,\n",
              "       -0.43978304, -0.9817484 , -0.66452897, -0.9665995 ,  0.6958651 ,\n",
              "       -0.17665255, -0.47646332,  0.3827719 , -0.5307328 ,  0.5202817 ,\n",
              "       -0.3195438 , -0.91114616, -1.        , -0.53053373, -0.6742839 ,\n",
              "        0.03219805, -0.07088494, -0.9532815 , -0.91909605,  0.6114019 ,\n",
              "        0.8214985 ,  0.41255298,  0.9996306 , -0.5063662 ,  0.8057629 ,\n",
              "       -0.07132336, -0.6259355 ,  0.63291365, -0.21038494,  0.71107334,\n",
              "       -0.6116062 ,  0.36685678,  0.44891223, -0.77611524,  0.3203962 ,\n",
              "       -0.65618545, -0.44621736, -0.7319056 , -0.5415472 , -0.2803742 ,\n",
              "        0.77988654, -0.34398147, -0.91106796, -0.1173025 , -0.28619662,\n",
              "       -0.24336353,  0.6289901 ,  0.7198554 ,  0.3706633 , -0.40371814,\n",
              "        0.58066165, -0.416034  ,  0.407387  , -0.6482117 , -0.13456517,\n",
              "        0.16362521, -0.6297628 , -0.75000685, -0.9502223 , -0.48712143,\n",
              "        0.1501293 ,  0.9482742 ,  0.20751426,  0.24152546,  0.4892116 ,\n",
              "       -0.33984128,  0.47897738, -0.91511947,  0.96119136, -0.13039073,\n",
              "        0.19893137, -0.86100453,  0.40352136, -0.54181683,  0.02489384,\n",
              "        0.34005743, -0.52320194, -0.60300463, -0.10569515, -0.5720202 ,\n",
              "       -0.54308337, -0.9179291 ,  0.67733735, -0.2009442 , -0.1441693 ,\n",
              "       -0.14886983,  0.67984426,  0.64920986,  0.08658345,  0.5146055 ,\n",
              "        0.5515307 , -0.48438397,  0.398893  ,  0.17376827,  0.2065534 ,\n",
              "        0.14520238,  0.96900326, -0.8713979 , -0.20491275, -0.63003767,\n",
              "       -0.900172  ,  0.11503642, -0.5058078 , -0.3600258 , -0.54774463,\n",
              "        0.67104673, -0.8827801 , -0.1283666 ,  0.16569851,  0.9212765 ,\n",
              "       -0.15608385,  0.26202944, -0.6727959 ,  0.49596548, -0.42090517,\n",
              "        0.99145   ,  0.9216738 , -0.42125604, -0.50522727,  0.9592892 ,\n",
              "       -0.91589046, -0.7559505 , -0.7952501 , -0.26382264,  0.19700532,\n",
              "       -0.62684095,  0.98222965,  0.8532042 ,  0.5029482 , -0.7913336 ,\n",
              "       -0.6916808 , -0.27212715, -0.4653711 , -0.45941833, -0.46517962,\n",
              "        0.8010909 ,  0.68236643,  0.53093845,  0.38366833, -0.45691788,\n",
              "        0.04868395, -0.9908276 , -0.90168977, -0.9799021 ,  0.17984156,\n",
              "       -0.9740604 ,  0.82785857,  0.2605172 ,  0.9367752 , -0.54277104,\n",
              "       -0.5656005 , -0.8848902 ,  0.03976047,  0.30952927, -0.23797594,\n",
              "       -0.78287536, -0.49695203, -0.63728815, -0.8524585 ,  0.09460419,\n",
              "       -0.28763872, -0.45890656,  0.25862876, -0.41884854,  0.49757642,\n",
              "        0.591436  ,  0.46528137, -0.8224868 ,  0.7322354 ,  1.        ,\n",
              "        0.91731364,  0.41979146, -0.48639426, -0.99997663, -0.9814892 ,\n",
              "        0.9999456 , -0.99279135, -1.        , -0.7696989 , -0.64453053,\n",
              "        0.23847553, -1.        , -0.27397248, -0.10004275, -0.6229517 ,\n",
              "        0.68215436,  0.9100829 , -0.09043495, -1.        ,  0.83688164,\n",
              "        0.7545192 , -0.66538084,  0.9225769 , -0.62166065,  0.94799256,\n",
              "        0.16958798,  0.8311963 , -0.14182648,  0.23621708, -0.92743254,\n",
              "       -0.5512817 , -0.4634439 , -0.897081  ,  0.99983275,  0.28735924,\n",
              "       -0.43108386, -0.42012998,  0.77515835, -0.4289208 ,  0.01389651,\n",
              "       -0.8476728 , -0.43110517,  0.46396342,  0.6335352 ,  0.40818542,\n",
              "        0.29062593, -0.08976459,  0.3743101 ,  0.30524224, -0.5268264 ,\n",
              "        0.6570056 , -0.53973025,  0.25614348,  0.47487   ,  0.08241401,\n",
              "       -0.384762  , -0.9485447 ,  0.8236111 , -0.3438852 ,  0.76044077,\n",
              "        1.        ,  0.9212067 , -0.26324964,  0.5629017 ,  0.11628783,\n",
              "       -0.2395624 ,  1.        ,  0.58220595, -0.9668088 , -0.6907387 ,\n",
              "        0.49728706, -0.65888494, -0.6493973 ,  0.99792534, -0.20590581,\n",
              "       -0.7780104 , -0.8181375 ,  0.98408115, -0.9749305 ,  0.9975484 ,\n",
              "       -0.11489086, -0.90873426,  0.79749626,  0.72003275, -0.7812925 ,\n",
              "       -0.73815256,  0.12494474, -0.02337607,  0.4071898 ,  0.00460568,\n",
              "        0.6738364 ,  0.20254809, -0.2299457 ,  0.6583993 ,  0.49967304,\n",
              "       -0.68944305,  0.29223076, -0.7986141 ,  0.04625375,  0.8936861 ,\n",
              "        0.26408285, -0.2801668 ,  0.06374422, -0.22658047, -0.96515936,\n",
              "       -0.89336264,  0.8285159 ,  1.        , -0.4427341 ,  0.9368351 ,\n",
              "       -0.03401057, -0.12884577,  0.27562186,  0.59547496,  0.60496294,\n",
              "       -0.27772284, -0.5080167 ,  0.6187934 ,  0.34718618, -0.981405  ,\n",
              "       -0.48203334,  0.35638994, -0.19205958,  0.99968445, -0.06401827,\n",
              "        0.30514365,  0.14358138,  0.97646374,  0.10286886, -0.16534492,\n",
              "        0.8332572 ,  0.97433525, -0.5594414 ,  0.714345  , -0.16770528,\n",
              "       -0.9025342 , -0.19947371, -0.46938658,  0.02504598, -0.85955507,\n",
              "       -0.3089466 , -0.8898462 ,  0.848917  ,  0.9232091 ,  0.32527068,\n",
              "        0.15826444,  0.8426498 ,  1.        , -0.9955064 ,  0.14282824,\n",
              "        0.7878242 , -0.7160129 , -0.9999412 ,  0.7922612 , -0.45236072,\n",
              "       -0.1850308 , -0.7652507 , -0.19506544,  0.3678319 , -0.93695825,\n",
              "        0.78604203,  0.73008984,  0.26147446, -0.916947  , -0.4077247 ,\n",
              "        0.03625608,  0.11367323, -0.9942552 , -0.44162774, -0.39269462,\n",
              "        0.62514085, -0.3974994 , -0.58388364, -0.01095373, -0.6835012 ,\n",
              "        0.35585156, -0.47142366,  0.6169519 ,  0.8109275 ,  0.8696498 ,\n",
              "       -0.9825057 , -0.61140317, -0.22934715, -0.52649593,  0.61003315,\n",
              "       -0.39712092, -0.9249178 , -0.35387084,  1.        , -0.2840149 ,\n",
              "        0.92486125, -0.02199436,  0.04714308, -0.16511834,  0.31886765,\n",
              "        0.89986783,  0.2949954 , -0.28270856, -0.78707474,  0.8651805 ,\n",
              "       -0.5093179 ,  0.542941  ,  0.93663156,  0.35307258,  0.5753397 ,\n",
              "        0.93223715,  0.36367324,  0.04937503,  0.13465816,  0.5569198 ,\n",
              "       -0.28076568, -0.40129888, -0.08810309, -0.10887846, -0.49059004,\n",
              "        0.73776495,  1.        ,  0.16483474,  0.7763541 , -0.97102964,\n",
              "       -0.88686883, -0.40447336,  1.        ,  0.82534075, -0.71223897,\n",
              "        0.53698266,  0.42168647, -0.2533953 , -0.07040093, -0.31668463,\n",
              "       -0.2685783 ,  0.33396748,  0.13796817,  0.8748312 , -0.3395408 ,\n",
              "       -0.9810875 , -0.6717858 ,  0.39455917, -0.86485565,  0.9999846 ,\n",
              "       -0.6591058 , -0.1981292 , -0.28856838, -0.8931622 , -0.9712726 ,\n",
              "        0.23535809, -0.92976266, -0.2761319 ,  0.39791194,  0.89593345,\n",
              "        0.39574173, -0.6274887 , -0.6205654 ,  0.8828777 ,  0.884208  ,\n",
              "       -0.84845215, -0.6991346 ,  0.88946515, -0.4623473 ,  0.56129307,\n",
              "        0.9999994 ,  0.4637286 ,  0.5836146 ,  0.34990883, -0.23268566,\n",
              "        0.4224391 , -0.81698906,  0.27619687, -0.575605  , -0.45688066,\n",
              "       -0.12688437,  0.4469117 , -0.5465325 , -0.97811717,  0.35819697,\n",
              "        0.2749262 , -0.6031034 , -0.49727127, -0.34616348,  0.4150239 ,\n",
              "        0.38052252, -0.36303297, -0.28266612,  0.4109557 , -0.33873856,\n",
              "       -0.18664703, -0.32578623, -0.5360891 , -0.9999982 ,  0.16858846,\n",
              "       -1.        ,  0.89059544, -0.18072118, -0.26536748,  0.6054154 ,\n",
              "        0.9251486 ,  0.43665338, -0.5546916 , -0.8843031 ,  0.39121506,\n",
              "        0.21595857, -0.31585893, -0.29303288, -0.3477817 ,  0.3979813 ,\n",
              "        0.02295761, -0.02175308, -0.6655306 ,  0.4447215 , -0.39781728,\n",
              "        1.        ,  0.13373044, -0.68430465,  0.50870806,  0.16582309,\n",
              "       -0.4240381 ,  1.        , -0.07755707, -0.9484702 ,  0.11898405,\n",
              "       -0.6995087 , -0.32055494,  0.51875186,  0.28385147, -0.7188451 ,\n",
              "       -0.92483854,  0.09633051,  0.352712  , -0.67763054,  0.5950857 ,\n",
              "       -0.2628395 , -0.48210716,  0.09813436,  0.90085053,  0.9668318 ,\n",
              "        0.7145659 ,  0.54071426, -0.97529745, -0.41519955,  0.8550039 ,\n",
              "        0.49177277, -0.51447374,  0.06842498,  1.        ,  0.39245573,\n",
              "       -0.69964886,  0.1454312 , -0.5131444 , -0.2581714 , -0.5493974 ,\n",
              "        0.316954  ,  0.27277893,  0.7866017 , -0.4121965 ,  0.816411  ,\n",
              "       -0.8362214 ,  0.23356289, -0.6989829 , -0.5655494 ,  0.50538623,\n",
              "       -0.8079307 , -0.9642591 , -0.952679  ,  0.4961022 , -0.5197097 ,\n",
              "       -0.35808772,  0.26672685,  0.21632206,  0.4958936 ,  0.46639773,\n",
              "       -1.        ,  0.8636311 ,  0.44013652,  0.8349591 ,  0.903862  ,\n",
              "        0.7725699 ,  0.73379785,  0.40927407, -0.9670061 ,  0.73039484,\n",
              "       -0.22268902, -0.46360734,  0.18970996,  0.66917324,  0.2973272 ,\n",
              "        0.41380033, -0.09107574, -0.6725714 , -0.5488989 , -0.987554  ,\n",
              "       -0.9765972 ,  0.3695455 , -0.3382249 ,  0.17920397,  0.8990981 ,\n",
              "       -0.651556  , -0.17563297, -0.03658783, -0.91649646, -0.5237744 ,\n",
              "        0.5051956 , -0.13780302, -0.0455735 ,  0.42780754,  0.6666763 ,\n",
              "        0.32212323,  0.9541135 , -0.8624104 ,  0.06283934, -0.782563  ,\n",
              "        0.62993014,  0.99215674, -0.9037148 ,  0.33050987,  0.7614672 ,\n",
              "       -0.02059613,  0.47528437, -0.28057438,  0.7919525 ,  0.94504666,\n",
              "       -0.24415283,  0.62369853, -0.2890048 , -0.19292983, -0.32175985,\n",
              "       -0.25941738, -0.64266896, -0.66555184,  0.5883276 ,  0.22468148,\n",
              "        0.819399  ,  0.82800543, -0.11564507, -0.04691088, -0.16925973,\n",
              "       -0.62365484, -0.8719731 , -0.3869581 , -0.10693312,  0.02800393,\n",
              "        0.81014633,  0.08512673,  0.9915102 , -0.01925482, -0.2755075 ,\n",
              "       -0.3702206 , -0.49791166,  0.2588345 , -0.9272216 , -0.6698533 ,\n",
              "       -0.49038938,  0.5245762 ,  0.35577914,  0.99999905, -0.76790184,\n",
              "       -0.8265936 , -0.8258018 , -0.34220144,  0.3896825 , -0.44642276,\n",
              "       -1.        ,  0.36819476, -0.22804017,  0.51805353, -0.75149554,\n",
              "        0.86433935, -0.75937146, -0.25747627, -0.41876838,  0.89389944,\n",
              "        0.8582054 , -0.5798379 , -0.6014186 ,  0.6180839 , -0.40128058,\n",
              "        0.9723162 ,  0.45544988, -0.80500776,  0.07513139,  0.66418177,\n",
              "       -0.8742329 , -0.53813213,  0.27164862], dtype=float32)>"
            ]
          },
          "metadata": {},
          "execution_count": 73
        }
      ]
    },
    {
      "cell_type": "code",
      "metadata": {
        "id": "TuIWkOzybtsI"
      },
      "source": [
        "list_token = []"
      ],
      "execution_count": 68,
      "outputs": []
    },
    {
      "cell_type": "code",
      "metadata": {
        "id": "Xgn3Tt2wb2wb"
      },
      "source": [
        "for (i,j) in enumerate(encoded_sent['pooled_output']):\n",
        "  vect = encoded_sent['pooled_output'][i]\n",
        "  cs = cosine_similarity([vect],vector_of_corpus)\n",
        "  list_token.append((cs,i))"
      ],
      "execution_count": 100,
      "outputs": []
    },
    {
      "cell_type": "code",
      "metadata": {
        "colab": {
          "base_uri": "https://localhost:8080/"
        },
        "id": "u3YKAYiAiBZ2",
        "outputId": "8d458050-55e7-40bb-d526-3ca1f554dbaf"
      },
      "source": [
        "print(list_token)"
      ],
      "execution_count": 101,
      "outputs": [
        {
          "output_type": "stream",
          "name": "stdout",
          "text": [
            "[(array([[0.97036016]], dtype=float32), 0), (array([[0.8902209]], dtype=float32), 1), (array([[0.90760255]], dtype=float32), 2), (array([[0.90591913]], dtype=float32), 3), (array([[0.934549]], dtype=float32), 4)]\n"
          ]
        }
      ]
    },
    {
      "cell_type": "code",
      "metadata": {
        "id": "qYi27Rt5kAZf"
      },
      "source": [
        "token_index = [0,2,4]"
      ],
      "execution_count": 115,
      "outputs": []
    },
    {
      "cell_type": "code",
      "metadata": {
        "id": "02k1AZC1kHnf"
      },
      "source": [
        "summary_corpus = ''\n",
        "for i in token_index:\n",
        "  summary_corpus += sentences_tokens[i]\n",
        "  summary_corpus += ' '"
      ],
      "execution_count": 126,
      "outputs": []
    },
    {
      "cell_type": "code",
      "metadata": {
        "colab": {
          "base_uri": "https://localhost:8080/",
          "height": 69
        },
        "id": "D_PnA6HWkPBN",
        "outputId": "97495f1e-dcf1-48d8-b50b-500eaf041dea"
      },
      "source": [
        "summary_corpus"
      ],
      "execution_count": 127,
      "outputs": [
        {
          "output_type": "execute_result",
          "data": {
            "application/vnd.google.colaboratory.intrinsic+json": {
              "type": "string"
            },
            "text/plain": [
              "'Influenza has a shorter median incubation period (the time from infection to appearance of symptoms) and a shorter serial interval than COVID-19 virus. This means that influenza can spread faster than COVID-19. In contrast, while we are learning that there are people who can shed COVID-19 virus 24-48 hours prior to symptom onset, at present, this does not appear to be a major driver of transmission. '"
            ]
          },
          "metadata": {},
          "execution_count": 127
        }
      ]
    },
    {
      "cell_type": "code",
      "metadata": {
        "id": "DQ4pD8UTkR_G"
      },
      "source": [
        ""
      ],
      "execution_count": null,
      "outputs": []
    }
  ]
}